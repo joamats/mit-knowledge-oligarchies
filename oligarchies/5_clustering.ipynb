{
 "cells": [
  {
   "cell_type": "code",
   "execution_count": 1,
   "metadata": {},
   "outputs": [],
   "source": [
    "import pandas as pd\n",
    "import networkx as nx\n",
    "from tqdm import tqdm\n",
    "import matplotlib.pyplot as plt\n",
    "from scipy.stats import ttest_ind\n"
   ]
  },
  {
   "cell_type": "code",
   "execution_count": 2,
   "metadata": {},
   "outputs": [],
   "source": [
    "# Load the graph from the .graphml file\n",
    "G = nx.read_graphml(\"graphs/all.graphml\")\n",
    "# get the nodes' names\n",
    "nodes = G.nodes()"
   ]
  },
  {
   "cell_type": "code",
   "execution_count": 3,
   "metadata": {},
   "outputs": [],
   "source": [
    "# Compute the clustering coefficient for each node\n",
    "clustering_coefficients = nx.clustering(G)\n",
    "\n",
    "# Create DataFrame to store the centrality measures\n",
    "clustering_df = pd.DataFrame({\n",
    "    'cc': clustering_coefficients\n",
    "})\n"
   ]
  },
  {
   "cell_type": "code",
   "execution_count": 4,
   "metadata": {},
   "outputs": [],
   "source": [
    "# Set the nodes as the index of the DataFrame\n",
    "clustering_df.index = nodes\n",
    "\n",
    "# label index as 'researcher_id'\n",
    "clustering_df.index.name = 'researcher_id'\n",
    "clustering_df = clustering_df.sort_values(by='cc', ascending=False)\n",
    "clustering_df['rank'] = clustering_df['cc'].rank(ascending=False, pct=True)\n",
    "\n",
    "# load cleaned data\n",
    "clean_data = pd.read_csv('../data_light/data_clean.csv')\n",
    "\n",
    "# merged centrality_df with clean_data for LMIC and gender columns\n",
    "clustering_df = clustering_df.merge(clean_data[['researcher_id', 'LMIC', 'gender']], on='researcher_id')"
   ]
  },
  {
   "cell_type": "code",
   "execution_count": 7,
   "metadata": {},
   "outputs": [
    {
     "data": {
      "text/html": [
       "<div>\n",
       "<style scoped>\n",
       "    .dataframe tbody tr th:only-of-type {\n",
       "        vertical-align: middle;\n",
       "    }\n",
       "\n",
       "    .dataframe tbody tr th {\n",
       "        vertical-align: top;\n",
       "    }\n",
       "\n",
       "    .dataframe thead th {\n",
       "        text-align: right;\n",
       "    }\n",
       "</style>\n",
       "<table border=\"1\" class=\"dataframe\">\n",
       "  <thead>\n",
       "    <tr style=\"text-align: right;\">\n",
       "      <th></th>\n",
       "      <th>researcher_id</th>\n",
       "      <th>cc</th>\n",
       "      <th>rank</th>\n",
       "      <th>LMIC</th>\n",
       "      <th>gender</th>\n",
       "    </tr>\n",
       "  </thead>\n",
       "  <tbody>\n",
       "    <tr>\n",
       "      <th>0</th>\n",
       "      <td>ur.01006172666.33</td>\n",
       "      <td>1.0</td>\n",
       "      <td>0.333585</td>\n",
       "      <td>0</td>\n",
       "      <td>female</td>\n",
       "    </tr>\n",
       "    <tr>\n",
       "      <th>5</th>\n",
       "      <td>ur.012701773077.66</td>\n",
       "      <td>1.0</td>\n",
       "      <td>0.333585</td>\n",
       "      <td>0</td>\n",
       "      <td>male</td>\n",
       "    </tr>\n",
       "    <tr>\n",
       "      <th>6</th>\n",
       "      <td>ur.015642421427.93</td>\n",
       "      <td>1.0</td>\n",
       "      <td>0.333585</td>\n",
       "      <td>0</td>\n",
       "      <td>NaN</td>\n",
       "    </tr>\n",
       "    <tr>\n",
       "      <th>7</th>\n",
       "      <td>ur.0733261754.35</td>\n",
       "      <td>1.0</td>\n",
       "      <td>0.333585</td>\n",
       "      <td>0</td>\n",
       "      <td>NaN</td>\n",
       "    </tr>\n",
       "    <tr>\n",
       "      <th>8</th>\n",
       "      <td>ur.0706537734.16</td>\n",
       "      <td>1.0</td>\n",
       "      <td>0.333585</td>\n",
       "      <td>0</td>\n",
       "      <td>male</td>\n",
       "    </tr>\n",
       "  </tbody>\n",
       "</table>\n",
       "</div>"
      ],
      "text/plain": [
       "        researcher_id   cc      rank  LMIC  gender\n",
       "0   ur.01006172666.33  1.0  0.333585     0  female\n",
       "5  ur.012701773077.66  1.0  0.333585     0    male\n",
       "6  ur.015642421427.93  1.0  0.333585     0     NaN\n",
       "7    ur.0733261754.35  1.0  0.333585     0     NaN\n",
       "8    ur.0706537734.16  1.0  0.333585     0    male"
      ]
     },
     "execution_count": 7,
     "metadata": {},
     "output_type": "execute_result"
    }
   ],
   "source": [
    "clustering_df = clustering_df.sort_values(by='rank', ascending=True)\n",
    "clustering_df.head()"
   ]
  },
  {
   "cell_type": "code",
   "execution_count": 9,
   "metadata": {},
   "outputs": [
    {
     "data": {
      "image/png": "[encoded data removed]",
      "text/plain": [
       "<Figure size 640x480 with 1 Axes>"
      ]
     },
     "metadata": {},
     "output_type": "display_data"
    }
   ],
   "source": [
    "# plot distribution of clustering coefficient\n",
    "plt.hist(clustering_df['cc'], bins=100)\n",
    "plt.show()"
   ]
  },
  {
   "cell_type": "code",
   "execution_count": 11,
   "metadata": {},
   "outputs": [
    {
     "data": {
      "text/plain": [
       "male      0.668189\n",
       "female    0.331811\n",
       "Name: gender, dtype: float64"
      ]
     },
     "execution_count": 11,
     "metadata": {},
     "output_type": "execute_result"
    }
   ],
   "source": [
    "# get the percentage of LMIC researchers where cc = 1\n",
    "clustering_df[clustering_df['cc'] == 1]['gender'].value_counts(normalize=True)"
   ]
  },
  {
   "cell_type": "code",
   "execution_count": null,
   "metadata": {},
   "outputs": [],
   "source": []
  }
 ],
 "metadata": {
  "kernelspec": {
   "display_name": "Python 3",
   "language": "python",
   "name": "python3"
  },
  "language_info": {
   "codemirror_mode": {
    "name": "ipython",
    "version": 3
   },
   "file_extension": ".py",
   "mimetype": "text/x-python",
   "name": "python",
   "nbconvert_exporter": "python",
   "pygments_lexer": "ipython3",
   "version": "3.10.11"
  },
  "orig_nbformat": 4
 },
 "nbformat": 4,
 "nbformat_minor": 2
}
