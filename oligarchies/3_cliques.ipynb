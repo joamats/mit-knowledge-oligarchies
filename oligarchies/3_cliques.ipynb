{
 "cells": [
  {
   "cell_type": "code",
   "execution_count": 21,
   "metadata": {},
   "outputs": [],
   "source": [
    "import pandas as pd\n",
    "import networkx as nx\n",
    "from tqdm import tqdm"
   ]
  },
  {
   "cell_type": "code",
   "execution_count": 3,
   "metadata": {},
   "outputs": [],
   "source": [
    "# Read the graph\n",
    "G = nx.read_graphml(\"graphs/all.graphml\")\n",
    "\n",
    "# Find the maximum cliques\n",
    "cliques = list(nx.find_cliques(G))"
   ]
  },
  {
   "cell_type": "code",
   "execution_count": 4,
   "metadata": {},
   "outputs": [
    {
     "name": "stdout",
     "output_type": "stream",
     "text": [
      "Number of cliques: 69879\n",
      "Size of the largest clique: 99\n"
     ]
    }
   ],
   "source": [
    "# print the number of cliques\n",
    "print(f\"Number of cliques: {len(cliques)}\")\n",
    "# print the size of the largest clique\n",
    "print(f\"Size of the largest clique: {len(max(cliques, key=len))}\")"
   ]
  },
  {
   "cell_type": "code",
   "execution_count": 5,
   "metadata": {},
   "outputs": [],
   "source": [
    "# Find the maximum clique\n",
    "max_clique = max(cliques, key=len)"
   ]
  },
  {
   "cell_type": "code",
   "execution_count": 45,
   "metadata": {},
   "outputs": [
    {
     "data": {
      "text/html": [
       "<div>\n",
       "<style scoped>\n",
       "    .dataframe tbody tr th:only-of-type {\n",
       "        vertical-align: middle;\n",
       "    }\n",
       "\n",
       "    .dataframe tbody tr th {\n",
       "        vertical-align: top;\n",
       "    }\n",
       "\n",
       "    .dataframe thead th {\n",
       "        text-align: right;\n",
       "    }\n",
       "</style>\n",
       "<table border=\"1\" class=\"dataframe\">\n",
       "  <thead>\n",
       "    <tr style=\"text-align: right;\">\n",
       "      <th></th>\n",
       "      <th>pub_id</th>\n",
       "      <th>researcher_id</th>\n",
       "      <th>journal</th>\n",
       "      <th>year</th>\n",
       "      <th>gender</th>\n",
       "      <th>LMIC</th>\n",
       "      <th>researchers_per_pub</th>\n",
       "    </tr>\n",
       "  </thead>\n",
       "  <tbody>\n",
       "    <tr>\n",
       "      <th>3467</th>\n",
       "      <td>pub.1001235026</td>\n",
       "      <td>ur.0706607200.18</td>\n",
       "      <td>JAMA</td>\n",
       "      <td>2007</td>\n",
       "      <td>male</td>\n",
       "      <td>0</td>\n",
       "      <td>14</td>\n",
       "    </tr>\n",
       "    <tr>\n",
       "      <th>26396</th>\n",
       "      <td>pub.1009244195</td>\n",
       "      <td>ur.0601454161.39</td>\n",
       "      <td>JAMA</td>\n",
       "      <td>2013</td>\n",
       "      <td>male</td>\n",
       "      <td>0</td>\n",
       "      <td>12</td>\n",
       "    </tr>\n",
       "    <tr>\n",
       "      <th>47570</th>\n",
       "      <td>pub.1017038770</td>\n",
       "      <td>ur.0706133702.96</td>\n",
       "      <td>New England Journal of Medicine</td>\n",
       "      <td>2016</td>\n",
       "      <td>female</td>\n",
       "      <td>0</td>\n",
       "      <td>21</td>\n",
       "    </tr>\n",
       "    <tr>\n",
       "      <th>92797</th>\n",
       "      <td>pub.1033600882</td>\n",
       "      <td>ur.0706133702.96</td>\n",
       "      <td>Nature Medicine</td>\n",
       "      <td>2012</td>\n",
       "      <td>female</td>\n",
       "      <td>0</td>\n",
       "      <td>22</td>\n",
       "    </tr>\n",
       "    <tr>\n",
       "      <th>98333</th>\n",
       "      <td>pub.1035740594</td>\n",
       "      <td>ur.0706133702.96</td>\n",
       "      <td>JAMA</td>\n",
       "      <td>2014</td>\n",
       "      <td>female</td>\n",
       "      <td>0</td>\n",
       "      <td>24</td>\n",
       "    </tr>\n",
       "  </tbody>\n",
       "</table>\n",
       "</div>"
      ],
      "text/plain": [
       "               pub_id     researcher_id                          journal  \\\n",
       "3467   pub.1001235026  ur.0706607200.18                             JAMA   \n",
       "26396  pub.1009244195  ur.0601454161.39                             JAMA   \n",
       "47570  pub.1017038770  ur.0706133702.96  New England Journal of Medicine   \n",
       "92797  pub.1033600882  ur.0706133702.96                  Nature Medicine   \n",
       "98333  pub.1035740594  ur.0706133702.96                             JAMA   \n",
       "\n",
       "       year  gender  LMIC  researchers_per_pub  \n",
       "3467   2007    male     0                   14  \n",
       "26396  2013    male     0                   12  \n",
       "47570  2016  female     0                   21  \n",
       "92797  2012  female     0                   22  \n",
       "98333  2014  female     0                   24  "
      ]
     },
     "execution_count": 45,
     "metadata": {},
     "output_type": "execute_result"
    }
   ],
   "source": [
    "# load data_clean\n",
    "df = pd.read_csv(\"../data_light/data_clean.csv\")\n",
    "df['researchers_per_pub'] = df.groupby('pub_id')['researcher_id'].transform('count')\n",
    "\n",
    "# find the researchers in the maximum clique\n",
    "researchers = df[df['researcher_id'].isin(max_clique)]\n",
    "researchers.head()"
   ]
  },
  {
   "cell_type": "code",
   "execution_count": 25,
   "metadata": {},
   "outputs": [
    {
     "data": {
      "text/plain": [
       "pub_id\n",
       "pub.1145514438    99\n",
       "pub.1036421772     2\n",
       "pub.1123046780     2\n",
       "pub.1001235026     1\n",
       "pub.1009244195     1\n",
       "pub.1017038770     1\n",
       "pub.1033600882     1\n",
       "pub.1035740594     1\n",
       "pub.1135436665     1\n",
       "pub.1139508327     1\n",
       "pub.1151221129     1\n",
       "Name: researcher_id, dtype: int64"
      ]
     },
     "execution_count": 25,
     "metadata": {},
     "output_type": "execute_result"
    }
   ],
   "source": [
    "# sort by publications with most authors\n",
    "researchers.groupby('pub_id')['researcher_id'].count().sort_values(ascending=False)"
   ]
  },
  {
   "cell_type": "code",
   "execution_count": 26,
   "metadata": {},
   "outputs": [
    {
     "name": "stderr",
     "output_type": "stream",
     "text": [
      "100%|██████████| 69879/69879 [1:09:31<00:00, 16.75it/s]\n"
     ]
    }
   ],
   "source": [
    "# for all cliques, compute the number of publications\n",
    "publications_per_clique = []\n",
    "for clique in tqdm(cliques):\n",
    "    clique_publications = df[df['researcher_id'].isin(clique)]['pub_id'].unique().tolist()\n",
    "    # number of publications per clique\n",
    "    publications_per_clique.append(len(clique_publications))    \n"
   ]
  },
  {
   "cell_type": "code",
   "execution_count": 55,
   "metadata": {},
   "outputs": [],
   "source": [
    "# create a DataFrame to store the results\n",
    "clique_df = pd.DataFrame({\n",
    "    'clique': cliques,\n",
    "    'publications': publications_per_clique,\n",
    "    'authors': [len(clique) for clique in cliques]\n",
    "}).sort_values(by='publications', ascending=False)\n",
    "\n",
    "# save the DataFrame to a CSV file\n",
    "clique_df.to_csv(\"cliques/cliques.csv\", index=False)\n"
   ]
  },
  {
   "cell_type": "code",
   "execution_count": 46,
   "metadata": {},
   "outputs": [],
   "source": [
    "max_pub_clique = cliques[63192]\n",
    "researchers = df[df['researcher_id'].isin(max_pub_clique)]"
   ]
  },
  {
   "cell_type": "code",
   "execution_count": 47,
   "metadata": {},
   "outputs": [
    {
     "data": {
      "text/plain": [
       "male      0.931911\n",
       "female    0.068089\n",
       "Name: gender, dtype: float64"
      ]
     },
     "execution_count": 47,
     "metadata": {},
     "output_type": "execute_result"
    }
   ],
   "source": [
    "# value counts on lmic and gender\n",
    "researchers['gender'].value_counts(normalize=True)"
   ]
  },
  {
   "cell_type": "code",
   "execution_count": 53,
   "metadata": {},
   "outputs": [
    {
     "data": {
      "text/plain": [
       "researchers_per_pub\n",
       "3     0.140408\n",
       "2     0.121633\n",
       "4     0.083265\n",
       "5     0.083265\n",
       "6     0.067755\n",
       "7     0.059592\n",
       "8     0.045714\n",
       "38    0.039184\n",
       "9     0.038367\n",
       "10    0.037551\n",
       "11    0.029388\n",
       "13    0.022041\n",
       "12    0.020408\n",
       "14    0.019592\n",
       "71    0.017959\n",
       "20    0.014694\n",
       "17    0.013878\n",
       "19    0.013878\n",
       "23    0.013061\n",
       "15    0.012245\n",
       "22    0.011429\n",
       "26    0.008980\n",
       "25    0.008163\n",
       "21    0.008163\n",
       "18    0.008163\n",
       "24    0.007347\n",
       "31    0.005714\n",
       "16    0.005714\n",
       "28    0.004898\n",
       "56    0.004898\n",
       "33    0.004082\n",
       "29    0.003265\n",
       "30    0.003265\n",
       "32    0.003265\n",
       "85    0.002449\n",
       "90    0.002449\n",
       "34    0.002449\n",
       "40    0.001633\n",
       "62    0.001633\n",
       "27    0.001633\n",
       "39    0.001633\n",
       "41    0.000816\n",
       "44    0.000816\n",
       "37    0.000816\n",
       "66    0.000816\n",
       "81    0.000816\n",
       "84    0.000816\n",
       "dtype: float64"
      ]
     },
     "execution_count": 53,
     "metadata": {},
     "output_type": "execute_result"
    }
   ],
   "source": [
    "researchers.value_counts('researchers_per_pub', normalize=True)"
   ]
  },
  {
   "cell_type": "code",
   "execution_count": 56,
   "metadata": {},
   "outputs": [
    {
     "data": {
      "text/html": [
       "<div>\n",
       "<style scoped>\n",
       "    .dataframe tbody tr th:only-of-type {\n",
       "        vertical-align: middle;\n",
       "    }\n",
       "\n",
       "    .dataframe tbody tr th {\n",
       "        vertical-align: top;\n",
       "    }\n",
       "\n",
       "    .dataframe thead th {\n",
       "        text-align: right;\n",
       "    }\n",
       "</style>\n",
       "<table border=\"1\" class=\"dataframe\">\n",
       "  <thead>\n",
       "    <tr style=\"text-align: right;\">\n",
       "      <th></th>\n",
       "      <th>clique</th>\n",
       "      <th>publications</th>\n",
       "      <th>authors</th>\n",
       "    </tr>\n",
       "  </thead>\n",
       "  <tbody>\n",
       "    <tr>\n",
       "      <th>63192</th>\n",
       "      <td>[ur.012310237337.47, ur.01202235233.91, ur.067...</td>\n",
       "      <td>987</td>\n",
       "      <td>38</td>\n",
       "    </tr>\n",
       "    <tr>\n",
       "      <th>63339</th>\n",
       "      <td>[ur.012310237337.47, ur.01202235233.91, ur.067...</td>\n",
       "      <td>968</td>\n",
       "      <td>71</td>\n",
       "    </tr>\n",
       "    <tr>\n",
       "      <th>63313</th>\n",
       "      <td>[ur.012310237337.47, ur.01202235233.91, ur.067...</td>\n",
       "      <td>871</td>\n",
       "      <td>26</td>\n",
       "    </tr>\n",
       "    <tr>\n",
       "      <th>63215</th>\n",
       "      <td>[ur.012310237337.47, ur.01202235233.91, ur.067...</td>\n",
       "      <td>854</td>\n",
       "      <td>24</td>\n",
       "    </tr>\n",
       "    <tr>\n",
       "      <th>63390</th>\n",
       "      <td>[ur.012310237337.47, ur.01202235233.91, ur.013...</td>\n",
       "      <td>804</td>\n",
       "      <td>12</td>\n",
       "    </tr>\n",
       "    <tr>\n",
       "      <th>63340</th>\n",
       "      <td>[ur.012310237337.47, ur.01202235233.91, ur.067...</td>\n",
       "      <td>799</td>\n",
       "      <td>24</td>\n",
       "    </tr>\n",
       "    <tr>\n",
       "      <th>63285</th>\n",
       "      <td>[ur.012310237337.47, ur.01202235233.91, ur.067...</td>\n",
       "      <td>780</td>\n",
       "      <td>25</td>\n",
       "    </tr>\n",
       "    <tr>\n",
       "      <th>63194</th>\n",
       "      <td>[ur.012310237337.47, ur.01202235233.91, ur.067...</td>\n",
       "      <td>776</td>\n",
       "      <td>24</td>\n",
       "    </tr>\n",
       "    <tr>\n",
       "      <th>62310</th>\n",
       "      <td>[ur.012310237337.47, ur.01311162025.52, ur.013...</td>\n",
       "      <td>753</td>\n",
       "      <td>8</td>\n",
       "    </tr>\n",
       "    <tr>\n",
       "      <th>63389</th>\n",
       "      <td>[ur.012310237337.47, ur.01202235233.91, ur.013...</td>\n",
       "      <td>709</td>\n",
       "      <td>8</td>\n",
       "    </tr>\n",
       "  </tbody>\n",
       "</table>\n",
       "</div>"
      ],
      "text/plain": [
       "                                                  clique  publications  \\\n",
       "63192  [ur.012310237337.47, ur.01202235233.91, ur.067...           987   \n",
       "63339  [ur.012310237337.47, ur.01202235233.91, ur.067...           968   \n",
       "63313  [ur.012310237337.47, ur.01202235233.91, ur.067...           871   \n",
       "63215  [ur.012310237337.47, ur.01202235233.91, ur.067...           854   \n",
       "63390  [ur.012310237337.47, ur.01202235233.91, ur.013...           804   \n",
       "63340  [ur.012310237337.47, ur.01202235233.91, ur.067...           799   \n",
       "63285  [ur.012310237337.47, ur.01202235233.91, ur.067...           780   \n",
       "63194  [ur.012310237337.47, ur.01202235233.91, ur.067...           776   \n",
       "62310  [ur.012310237337.47, ur.01311162025.52, ur.013...           753   \n",
       "63389  [ur.012310237337.47, ur.01202235233.91, ur.013...           709   \n",
       "\n",
       "       authors  \n",
       "63192       38  \n",
       "63339       71  \n",
       "63313       26  \n",
       "63215       24  \n",
       "63390       12  \n",
       "63340       24  \n",
       "63285       25  \n",
       "63194       24  \n",
       "62310        8  \n",
       "63389        8  "
      ]
     },
     "execution_count": 56,
     "metadata": {},
     "output_type": "execute_result"
    }
   ],
   "source": [
    "# get the clique sorted by number of publications and number of authors\n",
    "clique_df.sort_values(by=['publications', 'authors'], ascending=False).head(10)"
   ]
  },
  {
   "cell_type": "code",
   "execution_count": 42,
   "metadata": {},
   "outputs": [],
   "source": [
    "# add column with no. researcher per publication\n"
   ]
  },
  {
   "cell_type": "code",
   "execution_count": 44,
   "metadata": {},
   "outputs": [
    {
     "data": {
      "text/html": [
       "<div>\n",
       "<style scoped>\n",
       "    .dataframe tbody tr th:only-of-type {\n",
       "        vertical-align: middle;\n",
       "    }\n",
       "\n",
       "    .dataframe tbody tr th {\n",
       "        vertical-align: top;\n",
       "    }\n",
       "\n",
       "    .dataframe thead th {\n",
       "        text-align: right;\n",
       "    }\n",
       "</style>\n",
       "<table border=\"1\" class=\"dataframe\">\n",
       "  <thead>\n",
       "    <tr style=\"text-align: right;\">\n",
       "      <th></th>\n",
       "      <th>pub_id</th>\n",
       "      <th>researcher_id</th>\n",
       "      <th>journal</th>\n",
       "      <th>year</th>\n",
       "      <th>gender</th>\n",
       "      <th>LMIC</th>\n",
       "      <th>researchers_per_pub</th>\n",
       "    </tr>\n",
       "  </thead>\n",
       "  <tbody>\n",
       "    <tr>\n",
       "      <th>0</th>\n",
       "      <td>pub.1000001707</td>\n",
       "      <td>ur.01006172666.33</td>\n",
       "      <td>JAMA</td>\n",
       "      <td>2015</td>\n",
       "      <td>female</td>\n",
       "      <td>0</td>\n",
       "      <td>28</td>\n",
       "    </tr>\n",
       "    <tr>\n",
       "      <th>1</th>\n",
       "      <td>pub.1000001707</td>\n",
       "      <td>ur.01012736025.78</td>\n",
       "      <td>JAMA</td>\n",
       "      <td>2015</td>\n",
       "      <td>male</td>\n",
       "      <td>0</td>\n",
       "      <td>28</td>\n",
       "    </tr>\n",
       "    <tr>\n",
       "      <th>2</th>\n",
       "      <td>pub.1000001707</td>\n",
       "      <td>ur.010132635727.81</td>\n",
       "      <td>JAMA</td>\n",
       "      <td>2015</td>\n",
       "      <td>male</td>\n",
       "      <td>0</td>\n",
       "      <td>28</td>\n",
       "    </tr>\n",
       "    <tr>\n",
       "      <th>3</th>\n",
       "      <td>pub.1000001707</td>\n",
       "      <td>ur.01023477132.25</td>\n",
       "      <td>JAMA</td>\n",
       "      <td>2015</td>\n",
       "      <td>female</td>\n",
       "      <td>0</td>\n",
       "      <td>28</td>\n",
       "    </tr>\n",
       "    <tr>\n",
       "      <th>4</th>\n",
       "      <td>pub.1000001707</td>\n",
       "      <td>ur.01043100547.54</td>\n",
       "      <td>JAMA</td>\n",
       "      <td>2015</td>\n",
       "      <td>female</td>\n",
       "      <td>0</td>\n",
       "      <td>28</td>\n",
       "    </tr>\n",
       "  </tbody>\n",
       "</table>\n",
       "</div>"
      ],
      "text/plain": [
       "           pub_id       researcher_id journal  year  gender  LMIC  \\\n",
       "0  pub.1000001707   ur.01006172666.33    JAMA  2015  female     0   \n",
       "1  pub.1000001707   ur.01012736025.78    JAMA  2015    male     0   \n",
       "2  pub.1000001707  ur.010132635727.81    JAMA  2015    male     0   \n",
       "3  pub.1000001707   ur.01023477132.25    JAMA  2015  female     0   \n",
       "4  pub.1000001707   ur.01043100547.54    JAMA  2015  female     0   \n",
       "\n",
       "   researchers_per_pub  \n",
       "0                   28  \n",
       "1                   28  \n",
       "2                   28  \n",
       "3                   28  \n",
       "4                   28  "
      ]
     },
     "execution_count": 44,
     "metadata": {},
     "output_type": "execute_result"
    }
   ],
   "source": [
    "df.head()"
   ]
  },
  {
   "cell_type": "code",
   "execution_count": null,
   "metadata": {},
   "outputs": [],
   "source": []
  }
 ],
 "metadata": {
  "kernelspec": {
   "display_name": "Python 3",
   "language": "python",
   "name": "python3"
  },
  "language_info": {
   "codemirror_mode": {
    "name": "ipython",
    "version": 3
   },
   "file_extension": ".py",
   "mimetype": "text/x-python",
   "name": "python",
   "nbconvert_exporter": "python",
   "pygments_lexer": "ipython3",
   "version": "3.10.11"
  },
  "orig_nbformat": 4
 },
 "nbformat": 4,
 "nbformat_minor": 2
}
