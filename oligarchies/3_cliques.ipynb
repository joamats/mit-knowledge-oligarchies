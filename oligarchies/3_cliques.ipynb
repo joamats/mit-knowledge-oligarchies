{
 "cells": [
  {
   "cell_type": "code",
   "execution_count": 80,
   "metadata": {},
   "outputs": [],
   "source": [
    "import pandas as pd\n",
    "import networkx as nx\n",
    "from tqdm import tqdm\n",
    "import warnings\n",
    "warnings.filterwarnings('ignore')"
   ]
  },
  {
   "cell_type": "code",
   "execution_count": 3,
   "metadata": {},
   "outputs": [],
   "source": [
    "# Read the graph\n",
    "G = nx.read_graphml(\"graphs/all.graphml\")\n",
    "\n",
    "# Find the maximum cliques\n",
    "cliques = list(nx.find_cliques(G))"
   ]
  },
  {
   "cell_type": "code",
   "execution_count": 4,
   "metadata": {},
   "outputs": [
    {
     "name": "stdout",
     "output_type": "stream",
     "text": [
      "Number of cliques: 69879\n",
      "Size of the largest clique: 99\n"
     ]
    }
   ],
   "source": [
    "# print the number of cliques\n",
    "print(f\"Number of cliques: {len(cliques)}\")\n",
    "# print the size of the largest clique\n",
    "print(f\"Size of the largest clique: {len(max(cliques, key=len))}\")"
   ]
  },
  {
   "cell_type": "code",
   "execution_count": 81,
   "metadata": {},
   "outputs": [],
   "source": [
    "# load data_clean\n",
    "df = pd.read_csv(\"../data_light/data_clean.csv\")\n",
    "df['researchers_per_pub'] = df.groupby('pub_id')['researcher_id'].transform('count')"
   ]
  },
  {
   "cell_type": "code",
   "execution_count": 26,
   "metadata": {},
   "outputs": [
    {
     "name": "stderr",
     "output_type": "stream",
     "text": [
      "100%|██████████| 69879/69879 [1:09:31<00:00, 16.75it/s]\n"
     ]
    }
   ],
   "source": [
    "# for all cliques, compute the number of publications\n",
    "publications_per_clique = []\n",
    "for clique in tqdm(cliques):\n",
    "    clique_publications = df[df['researcher_id'].isin(clique)]['pub_id'].unique().tolist()\n",
    "    # number of publications per clique\n",
    "    publications_per_clique.append(len(clique_publications))    \n"
   ]
  },
  {
   "cell_type": "code",
   "execution_count": 55,
   "metadata": {},
   "outputs": [],
   "source": [
    "# create a DataFrame to store the results\n",
    "clique_df = pd.DataFrame({\n",
    "    'clique': cliques,\n",
    "    'publications': publications_per_clique,\n",
    "    'authors': [len(clique) for clique in cliques]\n",
    "}).sort_values(by='publications', ascending=False)\n",
    "\n",
    "# save the DataFrame to a CSV file\n",
    "clique_df.to_csv(\"cliques/cliques.csv\", index=False)\n"
   ]
  },
  {
   "cell_type": "code",
   "execution_count": 84,
   "metadata": {},
   "outputs": [
    {
     "name": "stderr",
     "output_type": "stream",
     "text": [
      "134it [00:00, 2791.77it/s]\n",
      "100%|██████████| 5/5 [00:01<00:00,  4.84it/s]\n"
     ]
    },
    {
     "data": {
      "text/html": [
       "<div>\n",
       "<style scoped>\n",
       "    .dataframe tbody tr th:only-of-type {\n",
       "        vertical-align: middle;\n",
       "    }\n",
       "\n",
       "    .dataframe tbody tr th {\n",
       "        vertical-align: top;\n",
       "    }\n",
       "\n",
       "    .dataframe thead th {\n",
       "        text-align: right;\n",
       "    }\n",
       "</style>\n",
       "<table border=\"1\" class=\"dataframe\">\n",
       "  <thead>\n",
       "    <tr style=\"text-align: right;\">\n",
       "      <th></th>\n",
       "      <th>authors</th>\n",
       "      <th>publications</th>\n",
       "      <th>HIC</th>\n",
       "      <th>male</th>\n",
       "    </tr>\n",
       "  </thead>\n",
       "  <tbody>\n",
       "    <tr>\n",
       "      <th>0</th>\n",
       "      <td>38.0</td>\n",
       "      <td>987.0</td>\n",
       "      <td>0.967347</td>\n",
       "      <td>0.931911</td>\n",
       "    </tr>\n",
       "    <tr>\n",
       "      <th>1</th>\n",
       "      <td>57.0</td>\n",
       "      <td>553.0</td>\n",
       "      <td>0.593103</td>\n",
       "      <td>0.764622</td>\n",
       "    </tr>\n",
       "    <tr>\n",
       "      <th>2</th>\n",
       "      <td>6.0</td>\n",
       "      <td>477.0</td>\n",
       "      <td>0.948000</td>\n",
       "      <td>0.936709</td>\n",
       "    </tr>\n",
       "    <tr>\n",
       "      <th>3</th>\n",
       "      <td>62.0</td>\n",
       "      <td>471.0</td>\n",
       "      <td>0.950207</td>\n",
       "      <td>0.798883</td>\n",
       "    </tr>\n",
       "    <tr>\n",
       "      <th>4</th>\n",
       "      <td>7.0</td>\n",
       "      <td>465.0</td>\n",
       "      <td>1.000000</td>\n",
       "      <td>1.000000</td>\n",
       "    </tr>\n",
       "  </tbody>\n",
       "</table>\n",
       "</div>"
      ],
      "text/plain": [
       "   authors  publications       HIC      male\n",
       "0     38.0         987.0  0.967347  0.931911\n",
       "1     57.0         553.0  0.593103  0.764622\n",
       "2      6.0         477.0  0.948000  0.936709\n",
       "3     62.0         471.0  0.950207  0.798883\n",
       "4      7.0         465.0  1.000000  1.000000"
      ]
     },
     "execution_count": 84,
     "metadata": {},
     "output_type": "execute_result"
    }
   ],
   "source": [
    "# Top 5 cliques per number of publications\n",
    "# find 5 cliques that do not intersect, start with cliques with most publications, stop when 5 cliques are found\n",
    "clique_df_sorted = clique_df.sort_values(by=['publications'], ascending=False)\n",
    "\n",
    "selected_cliques = []\n",
    "most_pubs_indexes = []\n",
    "\n",
    "for index, row in tqdm(clique_df_sorted.iterrows()):\n",
    "    clique = set(row['clique'])\n",
    "\n",
    "    if all(len(clique.intersection(selected_clique)) == 0 for selected_clique in selected_cliques):\n",
    "        selected_cliques.append(clique)\n",
    "        most_pubs_indexes.append(index)\n",
    "\n",
    "    if len(selected_cliques) == 5:\n",
    "        break\n",
    "\n",
    "# iterate over the selected cliques, find the researchers, save to dataframe the \n",
    "# number of authors, number of publications, percentages of LMIC, percentages of female\n",
    "clique_df_selected = pd.DataFrame()\n",
    "\n",
    "for clique in tqdm(selected_cliques):\n",
    "    clique_df_selected = clique_df_selected.append({\n",
    "        'authors': len(clique),\n",
    "        'publications': len(df[df['researcher_id'].isin(clique)]['pub_id'].unique()),\n",
    "        'HIC': df[df['researcher_id'].isin(clique)]['LMIC'].value_counts(normalize=True)[0],\n",
    "        'male': df[df['researcher_id'].isin(clique)]['gender'].value_counts(normalize=True)[0]\n",
    "    }, ignore_index=True)\n",
    "\n",
    "\n",
    "clique_df_selected"
   ]
  },
  {
   "cell_type": "code",
   "execution_count": 85,
   "metadata": {},
   "outputs": [
    {
     "name": "stderr",
     "output_type": "stream",
     "text": [
      "4it [00:00, 307.47it/s]\n",
      "100%|██████████| 5/5 [00:01<00:00,  3.65it/s]\n"
     ]
    },
    {
     "data": {
      "text/html": [
       "<div>\n",
       "<style scoped>\n",
       "    .dataframe tbody tr th:only-of-type {\n",
       "        vertical-align: middle;\n",
       "    }\n",
       "\n",
       "    .dataframe tbody tr th {\n",
       "        vertical-align: top;\n",
       "    }\n",
       "\n",
       "    .dataframe thead th {\n",
       "        text-align: right;\n",
       "    }\n",
       "</style>\n",
       "<table border=\"1\" class=\"dataframe\">\n",
       "  <thead>\n",
       "    <tr style=\"text-align: right;\">\n",
       "      <th></th>\n",
       "      <th>authors</th>\n",
       "      <th>publications</th>\n",
       "      <th>HIC</th>\n",
       "      <th>male</th>\n",
       "    </tr>\n",
       "  </thead>\n",
       "  <tbody>\n",
       "    <tr>\n",
       "      <th>0</th>\n",
       "      <td>99.0</td>\n",
       "      <td>11.0</td>\n",
       "      <td>1.000000</td>\n",
       "      <td>0.656566</td>\n",
       "    </tr>\n",
       "    <tr>\n",
       "      <th>1</th>\n",
       "      <td>95.0</td>\n",
       "      <td>78.0</td>\n",
       "      <td>0.990148</td>\n",
       "      <td>0.678756</td>\n",
       "    </tr>\n",
       "    <tr>\n",
       "      <th>2</th>\n",
       "      <td>94.0</td>\n",
       "      <td>39.0</td>\n",
       "      <td>1.000000</td>\n",
       "      <td>0.926174</td>\n",
       "    </tr>\n",
       "    <tr>\n",
       "      <th>3</th>\n",
       "      <td>91.0</td>\n",
       "      <td>113.0</td>\n",
       "      <td>0.648000</td>\n",
       "      <td>0.742222</td>\n",
       "    </tr>\n",
       "    <tr>\n",
       "      <th>4</th>\n",
       "      <td>91.0</td>\n",
       "      <td>23.0</td>\n",
       "      <td>0.884615</td>\n",
       "      <td>0.615385</td>\n",
       "    </tr>\n",
       "  </tbody>\n",
       "</table>\n",
       "</div>"
      ],
      "text/plain": [
       "   authors  publications       HIC      male\n",
       "0     99.0          11.0  1.000000  0.656566\n",
       "1     95.0          78.0  0.990148  0.678756\n",
       "2     94.0          39.0  1.000000  0.926174\n",
       "3     91.0         113.0  0.648000  0.742222\n",
       "4     91.0          23.0  0.884615  0.615385"
      ]
     },
     "execution_count": 85,
     "metadata": {},
     "output_type": "execute_result"
    }
   ],
   "source": [
    "# Top 5 Cliques by number of authors\n",
    "# find 5 cliques that do not intersect, start with cliques with most authors, stop when 5 cliques are found\n",
    "clique_df_sorted = clique_df.sort_values(by=['authors'], ascending=False)\n",
    "\n",
    "selected_cliques = []\n",
    "most_pubs_indexes = []\n",
    "\n",
    "for index, row in tqdm(clique_df_sorted.iterrows()):\n",
    "    clique = set(row['clique'])\n",
    "\n",
    "    if all(len(clique.intersection(selected_clique)) == 0 for selected_clique in selected_cliques):\n",
    "        selected_cliques.append(clique)\n",
    "        most_pubs_indexes.append(index)\n",
    "\n",
    "    if len(selected_cliques) == 5:\n",
    "        break\n",
    "\n",
    "# iterate over the selected cliques, find the researchers, save to dataframe the \n",
    "# number of authors, number of publications, percentages of LMIC, percentages of female\n",
    "clique_df_selected = pd.DataFrame()\n",
    "\n",
    "for clique in tqdm(selected_cliques):\n",
    "    clique_df_selected = clique_df_selected.append({\n",
    "        'authors': len(clique),\n",
    "        'publications': len(df[df['researcher_id'].isin(clique)]['pub_id'].unique()),\n",
    "        'HIC': df[df['researcher_id'].isin(clique)]['LMIC'].value_counts(normalize=True)[0],\n",
    "        'male': df[df['researcher_id'].isin(clique)]['gender'].value_counts(normalize=True)[0]\n",
    "    }, ignore_index=True)\n",
    "\n",
    "\n",
    "clique_df_selected"
   ]
  },
  {
   "cell_type": "code",
   "execution_count": null,
   "metadata": {},
   "outputs": [],
   "source": []
  }
 ],
 "metadata": {
  "kernelspec": {
   "display_name": "Python 3",
   "language": "python",
   "name": "python3"
  },
  "language_info": {
   "codemirror_mode": {
    "name": "ipython",
    "version": 3
   },
   "file_extension": ".py",
   "mimetype": "text/x-python",
   "name": "python",
   "nbconvert_exporter": "python",
   "pygments_lexer": "ipython3",
   "version": "3.10.11"
  },
  "orig_nbformat": 4
 },
 "nbformat": 4,
 "nbformat_minor": 2
}
