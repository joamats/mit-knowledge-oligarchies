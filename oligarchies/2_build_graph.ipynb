{
 "cells": [
  {
   "cell_type": "code",
   "execution_count": 1,
   "metadata": {},
   "outputs": [],
   "source": [
    "import pandas as pd\n",
    "import networkx as nx\n",
    "import itertools\n",
    "from tqdm import tqdm\n",
    "import numpy as np"
   ]
  },
  {
   "cell_type": "code",
   "execution_count": 7,
   "metadata": {},
   "outputs": [],
   "source": [
    "\n",
    "# Read data_clean\n",
    "df = pd.read_csv(\"../data_light/data_clean.csv\")\n",
    "\n",
    "# Group researchers per publication\n",
    "groups = df.groupby('pub_id')['researcher_id'].apply(list)\n",
    "\n",
    "# create a dictionary to store the collaboration count for each pair of authors\n",
    "collaboration_count = {}\n",
    "\n",
    "# count the collaborations among authors\n",
    "for group in groups:\n",
    "    for pair in itertools.combinations(group, 2):\n",
    "        if pair in collaboration_count:\n",
    "            collaboration_count[pair] += 1\n",
    "        else:\n",
    "            collaboration_count[pair] = 1\n",
    "\n",
    "# create the graph\n",
    "G = nx.Graph()\n",
    "\n",
    "# add the nodes\n",
    "for author in df['researcher_id'].unique():\n",
    "    G.add_node(author)\n",
    "\n",
    "# add the weighted edges\n",
    "for pair, weight in collaboration_count.items():\n",
    "    author1, author2 = pair\n",
    "    G.add_edge(author1, author2, weight=weight)\n",
    "\n",
    "nx.write_graphml(G, \"graphs/all.graphml\")\n"
   ]
  },
  {
   "cell_type": "code",
   "execution_count": 8,
   "metadata": {},
   "outputs": [
    {
     "name": "stdout",
     "output_type": "stream",
     "text": [
      "Number of nodes: 145878\n",
      "Number of edges: 1352110\n",
      "Mean of weights: 1.1707094836958531\n",
      "Std of weights: 0.7662695839529495\n",
      "Number of connected components: 6255\n",
      "Graph density: 0.0001270765444306464\n",
      "Global clustering coefficient: 0.7970357693090672\n"
     ]
    }
   ],
   "source": [
    "# no edges and nodes\n",
    "print(f\"Number of nodes: {G.number_of_nodes()}\")\n",
    "print(f\"Number of edges: {G.number_of_edges()}\")\n",
    "\n",
    "weights = [w for _, _, w in G.edges(data='weight')]\n",
    "# print mean and std of weights using numpy\n",
    "print(f\"Mean of weights: {np.mean(weights)}\")\n",
    "print(f\"Std of weights: {np.std(weights)}\")\n",
    "print(f\"Number of connected components: {nx.number_connected_components(G)}\")\n",
    "\n",
    "density = nx.density(G)\n",
    "print(\"Graph density:\", density)\n",
    "\n",
    "# Compute the global clustering coefficient\n",
    "clustering_coefficient = nx.average_clustering(G)\n",
    "print(\"Global clustering coefficient:\", clustering_coefficient)\n"
   ]
  },
  {
   "cell_type": "code",
   "execution_count": null,
   "metadata": {},
   "outputs": [],
   "source": []
  }
 ],
 "metadata": {
  "kernelspec": {
   "display_name": "Python 3",
   "language": "python",
   "name": "python3"
  },
  "language_info": {
   "codemirror_mode": {
    "name": "ipython",
    "version": 3
   },
   "file_extension": ".py",
   "mimetype": "text/x-python",
   "name": "python",
   "nbconvert_exporter": "python",
   "pygments_lexer": "ipython3",
   "version": "3.10.11"
  },
  "orig_nbformat": 4
 },
 "nbformat": 4,
 "nbformat_minor": 2
}
