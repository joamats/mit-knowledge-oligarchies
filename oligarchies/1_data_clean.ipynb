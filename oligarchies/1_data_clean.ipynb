{
 "cells": [
  {
   "cell_type": "code",
   "execution_count": 2,
   "metadata": {},
   "outputs": [],
   "source": [
    "import pandas as pd\n",
    "import networkx as nx"
   ]
  },
  {
   "cell_type": "code",
   "execution_count": 3,
   "metadata": {},
   "outputs": [
    {
     "data": {
      "text/html": [
       "<div>\n",
       "<style scoped>\n",
       "    .dataframe tbody tr th:only-of-type {\n",
       "        vertical-align: middle;\n",
       "    }\n",
       "\n",
       "    .dataframe tbody tr th {\n",
       "        vertical-align: top;\n",
       "    }\n",
       "\n",
       "    .dataframe thead th {\n",
       "        text-align: right;\n",
       "    }\n",
       "</style>\n",
       "<table border=\"1\" class=\"dataframe\">\n",
       "  <thead>\n",
       "    <tr style=\"text-align: right;\">\n",
       "      <th></th>\n",
       "      <th>pub_id</th>\n",
       "      <th>researcher_id</th>\n",
       "      <th>journal</th>\n",
       "      <th>year</th>\n",
       "      <th>gender</th>\n",
       "      <th>LMIC</th>\n",
       "    </tr>\n",
       "  </thead>\n",
       "  <tbody>\n",
       "    <tr>\n",
       "      <th>0</th>\n",
       "      <td>pub.1000001707</td>\n",
       "      <td>ur.01006172666.33</td>\n",
       "      <td>JAMA</td>\n",
       "      <td>2015</td>\n",
       "      <td>female</td>\n",
       "      <td>0</td>\n",
       "    </tr>\n",
       "    <tr>\n",
       "      <th>1</th>\n",
       "      <td>pub.1000001707</td>\n",
       "      <td>ur.01012736025.78</td>\n",
       "      <td>JAMA</td>\n",
       "      <td>2015</td>\n",
       "      <td>male</td>\n",
       "      <td>0</td>\n",
       "    </tr>\n",
       "    <tr>\n",
       "      <th>2</th>\n",
       "      <td>pub.1000001707</td>\n",
       "      <td>ur.010132635727.81</td>\n",
       "      <td>JAMA</td>\n",
       "      <td>2015</td>\n",
       "      <td>male</td>\n",
       "      <td>0</td>\n",
       "    </tr>\n",
       "    <tr>\n",
       "      <th>3</th>\n",
       "      <td>pub.1000001707</td>\n",
       "      <td>ur.01023477132.25</td>\n",
       "      <td>JAMA</td>\n",
       "      <td>2015</td>\n",
       "      <td>female</td>\n",
       "      <td>0</td>\n",
       "    </tr>\n",
       "    <tr>\n",
       "      <th>4</th>\n",
       "      <td>pub.1000001707</td>\n",
       "      <td>ur.01043100547.54</td>\n",
       "      <td>JAMA</td>\n",
       "      <td>2015</td>\n",
       "      <td>female</td>\n",
       "      <td>0</td>\n",
       "    </tr>\n",
       "  </tbody>\n",
       "</table>\n",
       "</div>"
      ],
      "text/plain": [
       "           pub_id       researcher_id journal  year  gender  LMIC\n",
       "0  pub.1000001707   ur.01006172666.33    JAMA  2015  female     0\n",
       "1  pub.1000001707   ur.01012736025.78    JAMA  2015    male     0\n",
       "2  pub.1000001707  ur.010132635727.81    JAMA  2015    male     0\n",
       "3  pub.1000001707   ur.01023477132.25    JAMA  2015  female     0\n",
       "4  pub.1000001707   ur.01043100547.54    JAMA  2015  female     0"
      ]
     },
     "execution_count": 3,
     "metadata": {},
     "output_type": "execute_result"
    }
   ],
   "source": [
    "df = pd.read_csv('../data_light/authors_journals.csv') \\\n",
    "       .drop(['Unnamed: 0','aff_name', 'aff_id','aff_city_id','author_name', 'aff_country_code'], axis=1) \\\n",
    "       .rename(columns={'journal.title': 'journal'}) \n",
    "\n",
    "# merge with pub_info to get the year\n",
    "df = df.merge(pd.read_csv('../data_light/pubs_info.csv'), on='pub_id')\n",
    "\n",
    "# merge with author_info to get the gender\n",
    "df = df.merge(pd.read_csv('../data_light/authors_info.csv').drop(['current_organization_id'], axis=1), on='researcher_id')\n",
    "\n",
    "# just a pub_id - research_id pair, no duplicated, groupby\n",
    "df = df.groupby(['pub_id', 'researcher_id']).agg({'journal': 'first',\n",
    "                                                  'year': 'first',\n",
    "                                                  'gender': 'first',\n",
    "                                                  'LMIC': 'max'}).reset_index()\n",
    "\n",
    "# drop PLOS Medicine\n",
    "df = df[df['journal'] != 'PLOS Medicine']\n",
    "\n",
    "# exclude papers with only one author\n",
    "df = df.groupby('pub_id').filter(lambda x: len(x) > 1) \n",
    "\n",
    "# exclude papers with more than 100 authors\n",
    "df = df.groupby('pub_id').filter(lambda x: len(x) <= 100)\n",
    "\n",
    "df.head()"
   ]
  },
  {
   "cell_type": "code",
   "execution_count": 4,
   "metadata": {},
   "outputs": [
    {
     "name": "stdout",
     "output_type": "stream",
     "text": [
      "Total number of authors: 161872\n",
      "Total number of publications: 50378\n"
     ]
    }
   ],
   "source": [
    "# count the number of authors in total\n",
    "print(f\"Total number of authors: {len(df.researcher_id.unique())}\")\n",
    "print(f\"Total number of publications: {len(df.pub_id.unique())}\")"
   ]
  },
  {
   "cell_type": "code",
   "execution_count": 5,
   "metadata": {},
   "outputs": [
    {
     "name": "stdout",
     "output_type": "stream",
     "text": [
      "               pub_id  researcher_id\n",
      "47340  pub.1145514438             99\n",
      "43377  pub.1134737671             95\n",
      "40243  pub.1126154306             94\n",
      "43740  pub.1135447669             91\n",
      "33828  pub.1106829208             91\n",
      "49389  pub.1151220554             90\n",
      "32341  pub.1103196468             90\n",
      "45848  pub.1141186137             88\n",
      "43857  pub.1135839002             88\n",
      "32647  pub.1103931047             86\n"
     ]
    }
   ],
   "source": [
    "# count the number of authors per publication, sort desc\n",
    "af = df.groupby('pub_id') \\\n",
    "       .agg({'researcher_id': 'count'}) \\\n",
    "       .reset_index() \\\n",
    "       .sort_values('researcher_id', ascending=False)\n",
    "\n",
    "print(af.head(10))\n"
   ]
  },
  {
   "cell_type": "code",
   "execution_count": 6,
   "metadata": {},
   "outputs": [
    {
     "name": "stdout",
     "output_type": "stream",
     "text": [
      "      pub_id\n",
      "year        \n",
      "2007   10790\n",
      "2008   11073\n",
      "2009   12332\n",
      "2010   12099\n",
      "2011   13125\n",
      "2012   14955\n",
      "2013   17562\n",
      "2014   17272\n",
      "2015   19086\n",
      "2016   23743\n",
      "2017   23215\n",
      "2018   24260\n",
      "2019   25037\n",
      "2020   27132\n",
      "2021   27460\n",
      "2022   24647\n",
      "2023     671\n"
     ]
    }
   ],
   "source": [
    "# print the number of publications per year\n",
    "print(df.groupby('year').agg({'pub_id': 'count'}).sort_values('year'))\n"
   ]
  },
  {
   "cell_type": "code",
   "execution_count": 7,
   "metadata": {},
   "outputs": [
    {
     "name": "stdout",
     "output_type": "stream",
     "text": [
      "                                 pub_id\n",
      "journal                                \n",
      "The Lancet                        97153\n",
      "JAMA                              57373\n",
      "The BMJ                           52718\n",
      "Nature Medicine                   49566\n",
      "New England Journal of Medicine   47649\n"
     ]
    }
   ],
   "source": [
    "# print the number of publications per journal\n",
    "print(df.groupby('journal').agg({'pub_id': 'count'}).sort_values('pub_id', ascending=False))"
   ]
  },
  {
   "cell_type": "code",
   "execution_count": 8,
   "metadata": {},
   "outputs": [
    {
     "name": "stdout",
     "output_type": "stream",
     "text": [
      "Number of LMIC authors: 17467\n",
      "0    0.90472\n",
      "1    0.09528\n",
      "Name: LMIC, dtype: float64\n"
     ]
    }
   ],
   "source": [
    "# print number of LMIC authors\n",
    "print(f\"Number of LMIC authors: {len(df[df['LMIC'] == 1].researcher_id.unique())}\")\n",
    "# relative now\n",
    "print(df.LMIC.value_counts(normalize=True))"
   ]
  },
  {
   "cell_type": "code",
   "execution_count": 9,
   "metadata": {},
   "outputs": [
    {
     "name": "stdout",
     "output_type": "stream",
     "text": [
      "male      187065\n",
      "female     93557\n",
      "Name: gender, dtype: int64\n",
      "male      0.666608\n",
      "female    0.333392\n",
      "Name: gender, dtype: float64\n"
     ]
    }
   ],
   "source": [
    "# print number of female authors with value counts\n",
    "print(df.gender.value_counts())\n",
    "print(df.gender.value_counts(normalize=True))"
   ]
  },
  {
   "cell_type": "code",
   "execution_count": 10,
   "metadata": {},
   "outputs": [],
   "source": [
    "df.to_csv('../data_light/data_clean.csv', index=False)"
   ]
  },
  {
   "cell_type": "code",
   "execution_count": null,
   "metadata": {},
   "outputs": [],
   "source": []
  }
 ],
 "metadata": {
  "kernelspec": {
   "display_name": "Python 3",
   "language": "python",
   "name": "python3"
  },
  "language_info": {
   "codemirror_mode": {
    "name": "ipython",
    "version": 3
   },
   "file_extension": ".py",
   "mimetype": "text/x-python",
   "name": "python",
   "nbconvert_exporter": "python",
   "pygments_lexer": "ipython3",
   "version": "3.10.11"
  },
  "orig_nbformat": 4
 },
 "nbformat": 4,
 "nbformat_minor": 2
}
