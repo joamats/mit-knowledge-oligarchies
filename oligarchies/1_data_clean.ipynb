{
 "cells": [
  {
   "cell_type": "code",
   "execution_count": 1,
   "metadata": {},
   "outputs": [],
   "source": [
    "import pandas as pd\n",
    "import networkx as nx"
   ]
  },
  {
   "cell_type": "code",
   "execution_count": 11,
   "metadata": {},
   "outputs": [
    {
     "name": "stdout",
     "output_type": "stream",
     "text": [
      "172359 authors (beginning)\n",
      "7722 authors dropped with only one paper\n",
      "164637 authors\n",
      "2765 authors dropped with more than 100 papers\n",
      "161872 authors\n",
      "15739 authors dropped with no gender info\n",
      "146133 authors (final)\n"
     ]
    },
    {
     "name": "stderr",
     "output_type": "stream",
     "text": [
      "C:\\Users\\João Matos\\AppData\\Local\\Temp\\ipykernel_26452\\2346169848.py:39: SettingWithCopyWarning: \n",
      "A value is trying to be set on a copy of a slice from a DataFrame.\n",
      "Try using .loc[row_indexer,col_indexer] = value instead\n",
      "\n",
      "See the caveats in the documentation: https://pandas.pydata.org/pandas-docs/stable/user_guide/indexing.html#returning-a-view-versus-a-copy\n",
      "  df3['gender'] = df3['gender'].apply(lambda x: 1 if x == \"female\" else 0)\n"
     ]
    },
    {
     "data": {
      "text/html": [
       "<div>\n",
       "<style scoped>\n",
       "    .dataframe tbody tr th:only-of-type {\n",
       "        vertical-align: middle;\n",
       "    }\n",
       "\n",
       "    .dataframe tbody tr th {\n",
       "        vertical-align: top;\n",
       "    }\n",
       "\n",
       "    .dataframe thead th {\n",
       "        text-align: right;\n",
       "    }\n",
       "</style>\n",
       "<table border=\"1\" class=\"dataframe\">\n",
       "  <thead>\n",
       "    <tr style=\"text-align: right;\">\n",
       "      <th></th>\n",
       "      <th>pub_id</th>\n",
       "      <th>researcher_id</th>\n",
       "      <th>journal</th>\n",
       "      <th>year</th>\n",
       "      <th>gender</th>\n",
       "      <th>LMIC</th>\n",
       "    </tr>\n",
       "  </thead>\n",
       "  <tbody>\n",
       "    <tr>\n",
       "      <th>0</th>\n",
       "      <td>pub.1000001707</td>\n",
       "      <td>ur.01006172666.33</td>\n",
       "      <td>JAMA</td>\n",
       "      <td>2015</td>\n",
       "      <td>1</td>\n",
       "      <td>0</td>\n",
       "    </tr>\n",
       "    <tr>\n",
       "      <th>1</th>\n",
       "      <td>pub.1000001707</td>\n",
       "      <td>ur.01012736025.78</td>\n",
       "      <td>JAMA</td>\n",
       "      <td>2015</td>\n",
       "      <td>0</td>\n",
       "      <td>0</td>\n",
       "    </tr>\n",
       "    <tr>\n",
       "      <th>2</th>\n",
       "      <td>pub.1000001707</td>\n",
       "      <td>ur.010132635727.81</td>\n",
       "      <td>JAMA</td>\n",
       "      <td>2015</td>\n",
       "      <td>0</td>\n",
       "      <td>0</td>\n",
       "    </tr>\n",
       "    <tr>\n",
       "      <th>3</th>\n",
       "      <td>pub.1000001707</td>\n",
       "      <td>ur.01023477132.25</td>\n",
       "      <td>JAMA</td>\n",
       "      <td>2015</td>\n",
       "      <td>1</td>\n",
       "      <td>0</td>\n",
       "    </tr>\n",
       "    <tr>\n",
       "      <th>4</th>\n",
       "      <td>pub.1000001707</td>\n",
       "      <td>ur.01043100547.54</td>\n",
       "      <td>JAMA</td>\n",
       "      <td>2015</td>\n",
       "      <td>1</td>\n",
       "      <td>0</td>\n",
       "    </tr>\n",
       "  </tbody>\n",
       "</table>\n",
       "</div>"
      ],
      "text/plain": [
       "           pub_id       researcher_id journal  year  gender  LMIC\n",
       "0  pub.1000001707   ur.01006172666.33    JAMA  2015       1     0\n",
       "1  pub.1000001707   ur.01012736025.78    JAMA  2015       0     0\n",
       "2  pub.1000001707  ur.010132635727.81    JAMA  2015       0     0\n",
       "3  pub.1000001707   ur.01023477132.25    JAMA  2015       1     0\n",
       "4  pub.1000001707   ur.01043100547.54    JAMA  2015       1     0"
      ]
     },
     "execution_count": 11,
     "metadata": {},
     "output_type": "execute_result"
    }
   ],
   "source": [
    "df = pd.read_csv('../data_light/authors_journals.csv') \\\n",
    "       .drop(['Unnamed: 0','aff_name', 'aff_id','aff_city_id','author_name', 'aff_country_code'], axis=1) \\\n",
    "       .rename(columns={'journal.title': 'journal'}) \n",
    "\n",
    "# merge with pub_info to get the year\n",
    "df = df.merge(pd.read_csv('../data_light/pubs_info.csv'), on='pub_id')\n",
    "\n",
    "# merge with author_info to get the gender\n",
    "df = df.merge(pd.read_csv('../data_light/authors_info.csv').drop(['current_organization_id'], axis=1), on='researcher_id')\n",
    "\n",
    "# just a pub_id - research_id pair, no duplicated, groupby\n",
    "df = df.groupby(['pub_id', 'researcher_id']).agg({'journal': 'first',\n",
    "                                                  'year': 'first',\n",
    "                                                  'gender': 'first',\n",
    "                                                  'LMIC': 'max'}).reset_index()\n",
    "\n",
    "# drop PLOS Medicine\n",
    "df = df[df['journal'] != 'PLOS Medicine']\n",
    "\n",
    "# exclude papers with only one author\n",
    "df1 = df.groupby('pub_id').filter(lambda x: len(x) > 1) \n",
    "print(f\"{len(df.researcher_id.unique())} authors (beginning)\")\n",
    "print(f\"{len(df.researcher_id.unique()) - len(df1.researcher_id.unique())} authors dropped with only one paper\")\n",
    "print(f\"{len(df1.researcher_id.unique())} authors\")\n",
    "\n",
    "\n",
    "# exclude papers with more than 100 authors\n",
    "df2 = df1.groupby('pub_id').filter(lambda x: len(x) <= 100)\n",
    "print(f\"{len(df1.researcher_id.unique()) - len(df2.researcher_id.unique())} authors dropped with more than 100 papers\")\n",
    "print(f\"{len(df2.researcher_id.unique())} authors\")\n",
    "\n",
    "\n",
    "# drop if gender is unknown\n",
    "df3 = df2[df2.gender.isna() == False]\n",
    "print(f\"{len(df2.researcher_id.unique()) - len(df3.researcher_id.unique())} authors dropped with no gender info\")\n",
    "print(f\"{len(df3.researcher_id.unique())} authors (final)\")\n",
    "\n",
    "# transform female into 1, male into 0\n",
    "df3['gender'] = df3['gender'].apply(lambda x: 1 if x == \"female\" else 0)\n",
    "\n",
    "df = df3.copy()\n",
    "\n",
    "df.head()"
   ]
  },
  {
   "cell_type": "code",
   "execution_count": 12,
   "metadata": {},
   "outputs": [
    {
     "data": {
      "text/plain": [
       "pub_id           0\n",
       "researcher_id    0\n",
       "journal          0\n",
       "year             0\n",
       "gender           0\n",
       "LMIC             0\n",
       "dtype: int64"
      ]
     },
     "execution_count": 12,
     "metadata": {},
     "output_type": "execute_result"
    }
   ],
   "source": [
    "# count na \n",
    "df3.isna().sum()"
   ]
  },
  {
   "cell_type": "code",
   "execution_count": 13,
   "metadata": {},
   "outputs": [
    {
     "name": "stdout",
     "output_type": "stream",
     "text": [
      "Total number of authors: 146133\n",
      "Total number of publications: 50149\n"
     ]
    }
   ],
   "source": [
    "# count the number of authors in total\n",
    "print(f\"Total number of authors: {len(df.researcher_id.unique())}\")\n",
    "print(f\"Total number of publications: {len(df.pub_id.unique())}\")"
   ]
  },
  {
   "cell_type": "code",
   "execution_count": 14,
   "metadata": {},
   "outputs": [
    {
     "name": "stdout",
     "output_type": "stream",
     "text": [
      "               pub_id  researcher_id\n",
      "40077  pub.1126154306             94\n",
      "43195  pub.1134737671             87\n",
      "47138  pub.1145514438             87\n",
      "43674  pub.1135839002             84\n",
      "32216  pub.1103196468             83\n",
      "49170  pub.1151220554             83\n",
      "32172  pub.1103149630             82\n",
      "43557  pub.1135447669             81\n",
      "10853  pub.1022462306             78\n",
      "46223  pub.1142611890             78\n"
     ]
    }
   ],
   "source": [
    "# count the number of authors per publication, sort desc\n",
    "af = df.groupby('pub_id') \\\n",
    "       .agg({'researcher_id': 'count'}) \\\n",
    "       .reset_index() \\\n",
    "       .sort_values('researcher_id', ascending=False)\n",
    "\n",
    "print(af.head(10))\n"
   ]
  },
  {
   "cell_type": "code",
   "execution_count": 15,
   "metadata": {},
   "outputs": [
    {
     "name": "stdout",
     "output_type": "stream",
     "text": [
      "      pub_id\n",
      "year        \n",
      "2007   10054\n",
      "2008   10323\n",
      "2009   11583\n",
      "2010   11281\n",
      "2011   12222\n",
      "2012   13902\n",
      "2013   16219\n",
      "2014   16065\n",
      "2015   17586\n",
      "2016   21990\n",
      "2017   21369\n",
      "2018   22228\n",
      "2019   22862\n",
      "2020   24860\n",
      "2021   25074\n",
      "2022   22396\n",
      "2023     608\n"
     ]
    }
   ],
   "source": [
    "# print the number of publications per year\n",
    "print(df.groupby('year').agg({'pub_id': 'count'}).sort_values('year'))\n"
   ]
  },
  {
   "cell_type": "code",
   "execution_count": 16,
   "metadata": {},
   "outputs": [
    {
     "name": "stdout",
     "output_type": "stream",
     "text": [
      "                                 pub_id\n",
      "journal                                \n",
      "The Lancet                        88940\n",
      "JAMA                              53246\n",
      "The BMJ                           49386\n",
      "Nature Medicine                   45234\n",
      "New England Journal of Medicine   43816\n"
     ]
    }
   ],
   "source": [
    "# print the number of publications per journal\n",
    "print(df.groupby('journal').agg({'pub_id': 'count'}).sort_values('pub_id', ascending=False))"
   ]
  },
  {
   "cell_type": "code",
   "execution_count": 19,
   "metadata": {},
   "outputs": [
    {
     "name": "stdout",
     "output_type": "stream",
     "text": [
      "0    187065\n",
      "1     93557\n",
      "Name: gender, dtype: int64\n",
      "0    0.915392\n",
      "1    0.084608\n",
      "Name: LMIC, dtype: float64\n"
     ]
    }
   ],
   "source": [
    "# print number of LMIC authors\n",
    "print(df.gender.value_counts())\n",
    "print(df.LMIC.value_counts(normalize=True))"
   ]
  },
  {
   "cell_type": "code",
   "execution_count": 18,
   "metadata": {},
   "outputs": [
    {
     "name": "stdout",
     "output_type": "stream",
     "text": [
      "0    187065\n",
      "1     93557\n",
      "Name: gender, dtype: int64\n",
      "0    0.666608\n",
      "1    0.333392\n",
      "Name: gender, dtype: float64\n"
     ]
    }
   ],
   "source": [
    "# print number of female authors with value counts\n",
    "print(df.gender.value_counts())\n",
    "print(df.gender.value_counts(normalize=True))"
   ]
  },
  {
   "cell_type": "code",
   "execution_count": 20,
   "metadata": {},
   "outputs": [],
   "source": [
    "df.to_csv('../data_light/data_clean.csv', index=False)"
   ]
  },
  {
   "cell_type": "code",
   "execution_count": 21,
   "metadata": {},
   "outputs": [],
   "source": [
    "import tableone"
   ]
  },
  {
   "cell_type": "code",
   "execution_count": 22,
   "metadata": {},
   "outputs": [
    {
     "data": {
      "text/html": [
       "<div>\n",
       "<style scoped>\n",
       "    .dataframe tbody tr th:only-of-type {\n",
       "        vertical-align: middle;\n",
       "    }\n",
       "\n",
       "    .dataframe tbody tr th {\n",
       "        vertical-align: top;\n",
       "    }\n",
       "\n",
       "    .dataframe thead th {\n",
       "        text-align: right;\n",
       "    }\n",
       "</style>\n",
       "<table border=\"1\" class=\"dataframe\">\n",
       "  <thead>\n",
       "    <tr style=\"text-align: right;\">\n",
       "      <th></th>\n",
       "      <th>pub_id</th>\n",
       "      <th>researcher_id</th>\n",
       "      <th>journal</th>\n",
       "      <th>year</th>\n",
       "      <th>gender</th>\n",
       "      <th>LMIC</th>\n",
       "    </tr>\n",
       "  </thead>\n",
       "  <tbody>\n",
       "    <tr>\n",
       "      <th>0</th>\n",
       "      <td>pub.1000001707</td>\n",
       "      <td>ur.01006172666.33</td>\n",
       "      <td>JAMA</td>\n",
       "      <td>2015</td>\n",
       "      <td>1</td>\n",
       "      <td>0</td>\n",
       "    </tr>\n",
       "    <tr>\n",
       "      <th>1</th>\n",
       "      <td>pub.1000001707</td>\n",
       "      <td>ur.01012736025.78</td>\n",
       "      <td>JAMA</td>\n",
       "      <td>2015</td>\n",
       "      <td>0</td>\n",
       "      <td>0</td>\n",
       "    </tr>\n",
       "    <tr>\n",
       "      <th>2</th>\n",
       "      <td>pub.1000001707</td>\n",
       "      <td>ur.010132635727.81</td>\n",
       "      <td>JAMA</td>\n",
       "      <td>2015</td>\n",
       "      <td>0</td>\n",
       "      <td>0</td>\n",
       "    </tr>\n",
       "    <tr>\n",
       "      <th>3</th>\n",
       "      <td>pub.1000001707</td>\n",
       "      <td>ur.01023477132.25</td>\n",
       "      <td>JAMA</td>\n",
       "      <td>2015</td>\n",
       "      <td>1</td>\n",
       "      <td>0</td>\n",
       "    </tr>\n",
       "    <tr>\n",
       "      <th>4</th>\n",
       "      <td>pub.1000001707</td>\n",
       "      <td>ur.01043100547.54</td>\n",
       "      <td>JAMA</td>\n",
       "      <td>2015</td>\n",
       "      <td>1</td>\n",
       "      <td>0</td>\n",
       "    </tr>\n",
       "  </tbody>\n",
       "</table>\n",
       "</div>"
      ],
      "text/plain": [
       "           pub_id       researcher_id journal  year  gender  LMIC\n",
       "0  pub.1000001707   ur.01006172666.33    JAMA  2015       1     0\n",
       "1  pub.1000001707   ur.01012736025.78    JAMA  2015       0     0\n",
       "2  pub.1000001707  ur.010132635727.81    JAMA  2015       0     0\n",
       "3  pub.1000001707   ur.01023477132.25    JAMA  2015       1     0\n",
       "4  pub.1000001707   ur.01043100547.54    JAMA  2015       1     0"
      ]
     },
     "execution_count": 22,
     "metadata": {},
     "output_type": "execute_result"
    }
   ],
   "source": [
    "df.head()"
   ]
  },
  {
   "cell_type": "code",
   "execution_count": null,
   "metadata": {},
   "outputs": [],
   "source": [
    "# create tableone\n"
   ]
  }
 ],
 "metadata": {
  "kernelspec": {
   "display_name": "Python 3",
   "language": "python",
   "name": "python3"
  },
  "language_info": {
   "codemirror_mode": {
    "name": "ipython",
    "version": 3
   },
   "file_extension": ".py",
   "mimetype": "text/x-python",
   "name": "python",
   "nbconvert_exporter": "python",
   "pygments_lexer": "ipython3",
   "version": "3.10.11"
  },
  "orig_nbformat": 4
 },
 "nbformat": 4,
 "nbformat_minor": 2
}
