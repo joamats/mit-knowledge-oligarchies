{
 "cells": [
  {
   "cell_type": "code",
   "execution_count": 1,
   "metadata": {},
   "outputs": [],
   "source": [
    "import pandas as pd\n",
    "import networkx as nx"
   ]
  },
  {
   "cell_type": "code",
   "execution_count": 11,
   "metadata": {},
   "outputs": [
    {
     "name": "stdout",
     "output_type": "stream",
     "text": [
      "172359 authors (beginning)\n",
      "7722 authors dropped with only one paper\n",
      "164637 authors\n",
      "2765 authors dropped with more than 100 papers\n",
      "161872 authors\n",
      "15739 authors dropped with no gender info\n",
      "146133 authors (final)\n"
     ]
    },
    {
     "name": "stderr",
     "output_type": "stream",
     "text": [
      "C:\\Users\\João Matos\\AppData\\Local\\Temp\\ipykernel_26452\\2346169848.py:39: SettingWithCopyWarning: \n",
      "A value is trying to be set on a copy of a slice from a DataFrame.\n",
      "Try using .loc[row_indexer,col_indexer] = value instead\n",
      "\n",
      "See the caveats in the documentation: https://pandas.pydata.org/pandas-docs/stable/user_guide/indexing.html#returning-a-view-versus-a-copy\n",
      "  df3['gender'] = df3['gender'].apply(lambda x: 1 if x == \"female\" else 0)\n"
     ]
    },
    {
     "data": {
      "text/html": [
       "<div>\n",
       "<style scoped>\n",
       "    .dataframe tbody tr th:only-of-type {\n",
       "        vertical-align: middle;\n",
       "    }\n",
       "\n",
       "    .dataframe tbody tr th {\n",
       "        vertical-align: top;\n",
       "    }\n",
       "\n",
       "    .dataframe thead th {\n",
       "        text-align: right;\n",
       "    }\n",
       "</style>\n",
       "<table border=\"1\" class=\"dataframe\">\n",
       "  <thead>\n",
       "    <tr style=\"text-align: right;\">\n",
       "      <th></th>\n",
       "      <th>pub_id</th>\n",
       "      <th>researcher_id</th>\n",
       "      <th>journal</th>\n",
       "      <th>year</th>\n",
       "      <th>gender</th>\n",
       "      <th>LMIC</th>\n",
       "    </tr>\n",
       "  </thead>\n",
       "  <tbody>\n",
       "    <tr>\n",
       "      <th>0</th>\n",
       "      <td>pub.1000001707</td>\n",
       "      <td>ur.01006172666.33</td>\n",
       "      <td>JAMA</td>\n",
       "      <td>2015</td>\n",
       "      <td>1</td>\n",
       "      <td>0</td>\n",
       "    </tr>\n",
       "    <tr>\n",
       "      <th>1</th>\n",
       "      <td>pub.1000001707</td>\n",
       "      <td>ur.01012736025.78</td>\n",
       "      <td>JAMA</td>\n",
       "      <td>2015</td>\n",
       "      <td>0</td>\n",
       "      <td>0</td>\n",
       "    </tr>\n",
       "    <tr>\n",
       "      <th>2</th>\n",
       "      <td>pub.1000001707</td>\n",
       "      <td>ur.010132635727.81</td>\n",
       "      <td>JAMA</td>\n",
       "      <td>2015</td>\n",
       "      <td>0</td>\n",
       "      <td>0</td>\n",
       "    </tr>\n",
       "    <tr>\n",
       "      <th>3</th>\n",
       "      <td>pub.1000001707</td>\n",
       "      <td>ur.01023477132.25</td>\n",
       "      <td>JAMA</td>\n",
       "      <td>2015</td>\n",
       "      <td>1</td>\n",
       "      <td>0</td>\n",
       "    </tr>\n",
       "    <tr>\n",
       "      <th>4</th>\n",
       "      <td>pub.1000001707</td>\n",
       "      <td>ur.01043100547.54</td>\n",
       "      <td>JAMA</td>\n",
       "      <td>2015</td>\n",
       "      <td>1</td>\n",
       "      <td>0</td>\n",
       "    </tr>\n",
       "  </tbody>\n",
       "</table>\n",
       "</div>"
      ],
      "text/plain": [
       "           pub_id       researcher_id journal  year  gender  LMIC\n",
       "0  pub.1000001707   ur.01006172666.33    JAMA  2015       1     0\n",
       "1  pub.1000001707   ur.01012736025.78    JAMA  2015       0     0\n",
       "2  pub.1000001707  ur.010132635727.81    JAMA  2015       0     0\n",
       "3  pub.1000001707   ur.01023477132.25    JAMA  2015       1     0\n",
       "4  pub.1000001707   ur.01043100547.54    JAMA  2015       1     0"
      ]
     },
     "execution_count": 11,
     "metadata": {},
     "output_type": "execute_result"
    }
   ],
   "source": [
    "df = pd.read_csv('../data_light/authors_journals.csv') \\\n",
    "       .drop(['Unnamed: 0','aff_name', 'aff_id','aff_city_id','author_name', 'aff_country_code'], axis=1) \\\n",
    "       .rename(columns={'journal.title': 'journal'}) \n",
    "\n",
    "# merge with pub_info to get the year\n",
    "df = df.merge(pd.read_csv('../data_light/pubs_info.csv'), on='pub_id')\n",
    "\n",
    "# merge with author_info to get the gender\n",
    "df = df.merge(pd.read_csv('../data_light/authors_info.csv').drop(['current_organization_id'], axis=1), on='researcher_id')\n",
    "\n",
    "# just a pub_id - research_id pair, no duplicated, groupby\n",
    "df = df.groupby(['pub_id', 'researcher_id']).agg({'journal': 'first',\n",
    "                                                  'year': 'first',\n",
    "                                                  'gender': 'first',\n",
    "                                                  'LMIC': 'max'}).reset_index()\n",
    "\n",
    "# drop PLOS Medicine\n",
    "df = df[df['journal'] != 'PLOS Medicine']\n",
    "\n",
    "# exclude papers with only one author\n",
    "df1 = df.groupby('pub_id').filter(lambda x: len(x) > 1) \n",
    "print(f\"{len(df.researcher_id.unique())} authors (beginning)\")\n",
    "print(f\"{len(df.researcher_id.unique()) - len(df1.researcher_id.unique())} authors dropped where there was only one author\")\n",
    "print(f\"{len(df1.researcher_id.unique())} authors\")\n",
    "\n",
    "\n",
    "# exclude papers with more than 100 authors\n",
    "df2 = df1.groupby('pub_id').filter(lambda x: len(x) <= 100)\n",
    "print(f\"{len(df1.researcher_id.unique()) - len(df2.researcher_id.unique())} authors dropped where papers had more than 100 authors\")\n",
    "print(f\"{len(df2.researcher_id.unique())} authors\")a\n",
    "\n",
    "\n",
    "# drop if gender is unknown\n",
    "df3 = df2[df2.gender.isna() == False]\n",
    "print(f\"{len(df2.researcher_id.unique()) - len(df3.researcher_id.unique())} authors dropped with no gender info\")\n",
    "print(f\"{len(df3.researcher_id.unique())} authors (final)\")\n",
    "\n",
    "# transform female into 1, male into 0\n",
    "df3['gender'] = df3['gender'].apply(lambda x: 1 if x == \"female\" else 0)\n",
    "\n",
    "df = df3.copy()\n",
    "\n",
    "df.head()"
   ]
  },
  {
   "cell_type": "code",
   "execution_count": 12,
   "metadata": {},
   "outputs": [
    {
     "data": {
      "text/plain": [
       "pub_id           0\n",
       "researcher_id    0\n",
       "journal          0\n",
       "year             0\n",
       "gender           0\n",
       "LMIC             0\n",
       "dtype: int64"
      ]
     },
     "execution_count": 12,
     "metadata": {},
     "output_type": "execute_result"
    }
   ],
   "source": [
    "# count na \n",
    "df3.isna().sum()"
   ]
  },
  {
   "cell_type": "code",
   "execution_count": 13,
   "metadata": {},
   "outputs": [
    {
     "name": "stdout",
     "output_type": "stream",
     "text": [
      "Total number of authors: 146133\n",
      "Total number of publications: 50149\n"
     ]
    }
   ],
   "source": [
    "# count the number of authors in total\n",
    "print(f\"Total number of authors: {len(df.researcher_id.unique())}\")\n",
    "print(f\"Total number of publications: {len(df.pub_id.unique())}\")"
   ]
  },
  {
   "cell_type": "code",
   "execution_count": 24,
   "metadata": {},
   "outputs": [
    {
     "name": "stdout",
     "output_type": "stream",
     "text": [
      "Median number of authors per publication: 3.0\n",
      "IQR of the number of authors per publication: (2.0, 6.0)\n"
     ]
    }
   ],
   "source": [
    "# count the number of authors per publication, sort desc\n",
    "af = df.groupby('pub_id') \\\n",
    "       .agg({'researcher_id': 'count'}) \\\n",
    "       .reset_index() \\\n",
    "       .sort_values('researcher_id', ascending=False)\n",
    "\n",
    "# print median and IQR of the number of authors per publication\n",
    "print(f\"Median number of authors per publication: {af.researcher_id.median()}\")\n",
    "print(f\"IQR of the number of authors per publication: {af.researcher_id.quantile(0.25) , af.researcher_id.quantile(0.75)}\")\n"
   ]
  },
  {
   "cell_type": "code",
   "execution_count": 39,
   "metadata": {},
   "outputs": [
    {
     "name": "stdout",
     "output_type": "stream",
     "text": [
      "Number of publications in 2007-2010: 43241\n",
      "Number of publications in 2011-2014: 58408\n",
      "Number of publications in 2015-2018: 83173\n",
      "Number of publications in 2019-2022: 95192\n"
     ]
    }
   ],
   "source": [
    "# print the number of publications per year, in bins of 4 years\n",
    "# 2007-2010, 2011-2014, 2015-2018, 2019-2022\n",
    "# drop 2023\n",
    "df = df[df.year != 2023]\n",
    "yf = df.year.value_counts().sort_index()\n",
    "# sum of publications in bins of 4 years\n",
    "print(f\"Number of publications in 2007-2010: {yf[2007] + yf[2008] + yf[2009] + yf[2010]}\")\n",
    "print(f\"Number of publications in 2011-2014: {yf[2011] + yf[2012] + yf[2013] + yf[2014]}\")\n",
    "print(f\"Number of publications in 2015-2018: {yf[2015] + yf[2016] + yf[2017] + yf[2018]}\")\n",
    "print(f\"Number of publications in 2019-2022: {yf[2019] + yf[2020] + yf[2021] + yf[2022]}\")\n"
   ]
  },
  {
   "cell_type": "code",
   "execution_count": 40,
   "metadata": {},
   "outputs": [
    {
     "name": "stdout",
     "output_type": "stream",
     "text": [
      "% of publications in 2007-2010: 15.442442163606104\n",
      "% of publications in 2011-2014: 20.858957052147392\n",
      "% of publications in 2015-2018: 29.703157699257893\n",
      "% of publications in 2019-2022: 33.99544308498861\n"
     ]
    }
   ],
   "source": [
    "print(f\"% of publications in 2007-2010: {(yf[2007] + yf[2008] + yf[2009] + yf[2010])/yf.sum()*100}\")\n",
    "print(f\"% of publications in 2011-2014: {(yf[2011] + yf[2012] + yf[2013] + yf[2014])/yf.sum()*100}\")\n",
    "print(f\"% of publications in 2015-2018: {(yf[2015] + yf[2016] + yf[2017] + yf[2018])/yf.sum()*100}\")\n",
    "print(f\"% of publications in 2019-2022: {(yf[2019] + yf[2020] + yf[2021] + yf[2022])/yf.sum()*100}\")"
   ]
  },
  {
   "cell_type": "code",
   "execution_count": 44,
   "metadata": {},
   "outputs": [
    {
     "name": "stdout",
     "output_type": "stream",
     "text": [
      "                                 pub_id\n",
      "journal                                \n",
      "The Lancet                        88902\n",
      "JAMA                              53010\n",
      "The BMJ                           49332\n",
      "Nature Medicine                   45054\n",
      "New England Journal of Medicine   43716\n"
     ]
    }
   ],
   "source": [
    "# print the number of publications per journal\n",
    "jf = df.groupby('journal').agg({'pub_id': 'count'}).sort_values('pub_id', ascending=False)\n",
    "print(jf)"
   ]
  },
  {
   "cell_type": "code",
   "execution_count": 45,
   "metadata": {},
   "outputs": [
    {
     "name": "stdout",
     "output_type": "stream",
     "text": [
      "                                    pub_id\n",
      "journal                                   \n",
      "The Lancet                       31.749127\n",
      "JAMA                             18.931196\n",
      "The BMJ                          17.617691\n",
      "Nature Medicine                  16.089910\n",
      "New England Journal of Medicine  15.612077\n"
     ]
    }
   ],
   "source": [
    "# print the % of publications per journal\n",
    "print(jf/jf.sum()*100)  "
   ]
  },
  {
   "cell_type": "code",
   "execution_count": 48,
   "metadata": {},
   "outputs": [],
   "source": [
    "\n",
    "import numpy as np\n",
    "def percentile(n):\n",
    "    def percentile_(x):\n",
    "        return np.percentile(x, n)\n",
    "    percentile_.__name__ = 'percentile_%s' % n\n",
    "    return percentile_"
   ]
  },
  {
   "cell_type": "code",
   "execution_count": 59,
   "metadata": {},
   "outputs": [
    {
     "data": {
      "text/html": [
       "<div>\n",
       "<style scoped>\n",
       "    .dataframe tbody tr th:only-of-type {\n",
       "        vertical-align: middle;\n",
       "    }\n",
       "\n",
       "    .dataframe tbody tr th {\n",
       "        vertical-align: top;\n",
       "    }\n",
       "\n",
       "    .dataframe thead tr th {\n",
       "        text-align: left;\n",
       "    }\n",
       "</style>\n",
       "<table border=\"1\" class=\"dataframe\">\n",
       "  <thead>\n",
       "    <tr>\n",
       "      <th></th>\n",
       "      <th>journal</th>\n",
       "      <th colspan=\"3\" halign=\"left\">researcher_id</th>\n",
       "    </tr>\n",
       "    <tr>\n",
       "      <th></th>\n",
       "      <th></th>\n",
       "      <th>median</th>\n",
       "      <th>percentile_25</th>\n",
       "      <th>percentile_75</th>\n",
       "    </tr>\n",
       "  </thead>\n",
       "  <tbody>\n",
       "    <tr>\n",
       "      <th>0</th>\n",
       "      <td>JAMA</td>\n",
       "      <td>3.0</td>\n",
       "      <td>2.0</td>\n",
       "      <td>6.0</td>\n",
       "    </tr>\n",
       "    <tr>\n",
       "      <th>1</th>\n",
       "      <td>Nature Medicine</td>\n",
       "      <td>10.0</td>\n",
       "      <td>3.0</td>\n",
       "      <td>17.0</td>\n",
       "    </tr>\n",
       "    <tr>\n",
       "      <th>2</th>\n",
       "      <td>New England Journal of Medicine</td>\n",
       "      <td>3.0</td>\n",
       "      <td>2.0</td>\n",
       "      <td>5.0</td>\n",
       "    </tr>\n",
       "    <tr>\n",
       "      <th>3</th>\n",
       "      <td>The BMJ</td>\n",
       "      <td>3.0</td>\n",
       "      <td>2.0</td>\n",
       "      <td>5.0</td>\n",
       "    </tr>\n",
       "    <tr>\n",
       "      <th>4</th>\n",
       "      <td>The Lancet</td>\n",
       "      <td>3.0</td>\n",
       "      <td>2.0</td>\n",
       "      <td>6.0</td>\n",
       "    </tr>\n",
       "  </tbody>\n",
       "</table>\n",
       "</div>"
      ],
      "text/plain": [
       "                           journal researcher_id                            \n",
       "                                          median percentile_25 percentile_75\n",
       "0                             JAMA           3.0           2.0           6.0\n",
       "1                  Nature Medicine          10.0           3.0          17.0\n",
       "2  New England Journal of Medicine           3.0           2.0           5.0\n",
       "3                          The BMJ           3.0           2.0           5.0\n",
       "4                       The Lancet           3.0           2.0           6.0"
      ]
     },
     "execution_count": 59,
     "metadata": {},
     "output_type": "execute_result"
    }
   ],
   "source": [
    "# get the median and IQR of the number of authors per publication per journal\n",
    "apf = df.groupby(['pub_id', 'journal']) \\\n",
    "         .agg({'researcher_id': 'count'}) \\\n",
    "            .reset_index() \\\n",
    "            .groupby('journal') \\\n",
    "            .agg({'researcher_id': ['median', percentile(25), percentile(75)]}) \\\n",
    "            .reset_index()\n",
    "\n",
    "apf"
   ]
  },
  {
   "cell_type": "code",
   "execution_count": 56,
   "metadata": {},
   "outputs": [],
   "source": [
    "# create new column in df with the year bins\n",
    "df['year_bin'] = df['year'].apply(lambda x: '2007-2010' if x in [2007, 2008, 2009, 2010] else \\\n",
    "                                             '2011-2014' if x in [2011, 2012, 2013, 2014] else \\\n",
    "                                                '2015-2018' if x in [2015, 2016, 2017, 2018] else \\\n",
    "                                                    '2019-2022')"
   ]
  },
  {
   "cell_type": "code",
   "execution_count": 60,
   "metadata": {},
   "outputs": [
    {
     "data": {
      "text/html": [
       "<div>\n",
       "<style scoped>\n",
       "    .dataframe tbody tr th:only-of-type {\n",
       "        vertical-align: middle;\n",
       "    }\n",
       "\n",
       "    .dataframe tbody tr th {\n",
       "        vertical-align: top;\n",
       "    }\n",
       "\n",
       "    .dataframe thead tr th {\n",
       "        text-align: left;\n",
       "    }\n",
       "</style>\n",
       "<table border=\"1\" class=\"dataframe\">\n",
       "  <thead>\n",
       "    <tr>\n",
       "      <th></th>\n",
       "      <th>year_bin</th>\n",
       "      <th colspan=\"3\" halign=\"left\">researcher_id</th>\n",
       "    </tr>\n",
       "    <tr>\n",
       "      <th></th>\n",
       "      <th></th>\n",
       "      <th>median</th>\n",
       "      <th>percentile_25</th>\n",
       "      <th>percentile_75</th>\n",
       "    </tr>\n",
       "  </thead>\n",
       "  <tbody>\n",
       "    <tr>\n",
       "      <th>0</th>\n",
       "      <td>2007-2010</td>\n",
       "      <td>3.0</td>\n",
       "      <td>2.0</td>\n",
       "      <td>6.0</td>\n",
       "    </tr>\n",
       "    <tr>\n",
       "      <th>1</th>\n",
       "      <td>2011-2014</td>\n",
       "      <td>3.0</td>\n",
       "      <td>2.0</td>\n",
       "      <td>6.0</td>\n",
       "    </tr>\n",
       "    <tr>\n",
       "      <th>2</th>\n",
       "      <td>2015-2018</td>\n",
       "      <td>3.0</td>\n",
       "      <td>2.0</td>\n",
       "      <td>6.0</td>\n",
       "    </tr>\n",
       "    <tr>\n",
       "      <th>3</th>\n",
       "      <td>2019-2022</td>\n",
       "      <td>3.0</td>\n",
       "      <td>2.0</td>\n",
       "      <td>7.0</td>\n",
       "    </tr>\n",
       "  </tbody>\n",
       "</table>\n",
       "</div>"
      ],
      "text/plain": [
       "    year_bin researcher_id                            \n",
       "                    median percentile_25 percentile_75\n",
       "0  2007-2010           3.0           2.0           6.0\n",
       "1  2011-2014           3.0           2.0           6.0\n",
       "2  2015-2018           3.0           2.0           6.0\n",
       "3  2019-2022           3.0           2.0           7.0"
      ]
     },
     "execution_count": 60,
     "metadata": {},
     "output_type": "execute_result"
    }
   ],
   "source": [
    "# get the median and IQR of the number of authors per publication per bin of 4 years\n",
    "apyf = df.groupby(['pub_id', 'year_bin']) \\\n",
    "            .agg({'researcher_id': 'count'}) \\\n",
    "            .reset_index() \\\n",
    "            .groupby('year_bin') \\\n",
    "            .agg({'researcher_id': ['median', percentile(25), percentile(75)]}) \\\n",
    "            .reset_index()\n",
    "\n",
    "apyf\n"
   ]
  },
  {
   "cell_type": "code",
   "execution_count": 61,
   "metadata": {},
   "outputs": [
    {
     "name": "stdout",
     "output_type": "stream",
     "text": [
      "0    256308\n",
      "1     23706\n",
      "Name: LMIC, dtype: int64\n",
      "0    0.91534\n",
      "1    0.08466\n",
      "Name: LMIC, dtype: float64\n"
     ]
    }
   ],
   "source": [
    "# print number of LMIC authors\n",
    "print(df.LMIC.value_counts())\n",
    "print(df.LMIC.value_counts(normalize=True))"
   ]
  },
  {
   "cell_type": "code",
   "execution_count": 71,
   "metadata": {},
   "outputs": [
    {
     "name": "stdout",
     "output_type": "stream",
     "text": [
      "0    42666\n",
      "1     7376\n",
      "Name: LMIC, dtype: int64\n",
      "0    0.852604\n",
      "1    0.147396\n",
      "Name: LMIC, dtype: float64\n"
     ]
    }
   ],
   "source": [
    "# print number of publications with at least one LMIC author\n",
    "print(df.groupby('pub_id').agg({'LMIC': 'max'}).LMIC.value_counts())\n",
    "print(df.groupby('pub_id').agg({'LMIC': 'max'}).LMIC.value_counts(normalize=True))"
   ]
  },
  {
   "cell_type": "code",
   "execution_count": 62,
   "metadata": {},
   "outputs": [
    {
     "name": "stdout",
     "output_type": "stream",
     "text": [
      "0    186709\n",
      "1     93305\n",
      "Name: gender, dtype: int64\n",
      "0    0.666785\n",
      "1    0.333215\n",
      "Name: gender, dtype: float64\n"
     ]
    }
   ],
   "source": [
    "# print number of female authors with value counts\n",
    "print(df.gender.value_counts())\n",
    "print(df.gender.value_counts(normalize=True))"
   ]
  },
  {
   "cell_type": "code",
   "execution_count": 72,
   "metadata": {},
   "outputs": [
    {
     "name": "stdout",
     "output_type": "stream",
     "text": [
      "1    33633\n",
      "0    16409\n",
      "Name: gender, dtype: int64\n",
      "1    0.672095\n",
      "0    0.327905\n",
      "Name: gender, dtype: float64\n"
     ]
    }
   ],
   "source": [
    "# print publications with at least one female author\n",
    "print(df.groupby('pub_id').agg({'gender': 'max'}).gender.value_counts())\n",
    "print(df.groupby('pub_id').agg({'gender': 'max'}).gender.value_counts(normalize=True))"
   ]
  },
  {
   "cell_type": "code",
   "execution_count": 67,
   "metadata": {},
   "outputs": [
    {
     "data": {
      "text/html": [
       "<div>\n",
       "<style scoped>\n",
       "    .dataframe tbody tr th:only-of-type {\n",
       "        vertical-align: middle;\n",
       "    }\n",
       "\n",
       "    .dataframe tbody tr th {\n",
       "        vertical-align: top;\n",
       "    }\n",
       "\n",
       "    .dataframe thead th {\n",
       "        text-align: right;\n",
       "    }\n",
       "</style>\n",
       "<table border=\"1\" class=\"dataframe\">\n",
       "  <thead>\n",
       "    <tr style=\"text-align: right;\">\n",
       "      <th></th>\n",
       "      <th>year_bin</th>\n",
       "      <th>researcher_id</th>\n",
       "    </tr>\n",
       "  </thead>\n",
       "  <tbody>\n",
       "    <tr>\n",
       "      <th>0</th>\n",
       "      <td>2007-2010</td>\n",
       "      <td>43241</td>\n",
       "    </tr>\n",
       "    <tr>\n",
       "      <th>1</th>\n",
       "      <td>2011-2014</td>\n",
       "      <td>58408</td>\n",
       "    </tr>\n",
       "    <tr>\n",
       "      <th>2</th>\n",
       "      <td>2015-2018</td>\n",
       "      <td>83173</td>\n",
       "    </tr>\n",
       "    <tr>\n",
       "      <th>3</th>\n",
       "      <td>2019-2022</td>\n",
       "      <td>95192</td>\n",
       "    </tr>\n",
       "  </tbody>\n",
       "</table>\n",
       "</div>"
      ],
      "text/plain": [
       "    year_bin  researcher_id\n",
       "0  2007-2010          43241\n",
       "1  2011-2014          58408\n",
       "2  2015-2018          83173\n",
       "3  2019-2022          95192"
      ]
     },
     "execution_count": 67,
     "metadata": {},
     "output_type": "execute_result"
    }
   ],
   "source": [
    "# get number of authors per year bin\n",
    "ybaf = df.groupby('year_bin').agg({'researcher_id': 'count'}).reset_index()\n",
    "ybaf"
   ]
  },
  {
   "cell_type": "code",
   "execution_count": 69,
   "metadata": {},
   "outputs": [
    {
     "data": {
      "text/plain": [
       "0    15.442442\n",
       "1    20.858957\n",
       "2    29.703158\n",
       "3    33.995443\n",
       "Name: researcher_id, dtype: float64"
      ]
     },
     "execution_count": 69,
     "metadata": {},
     "output_type": "execute_result"
    }
   ],
   "source": [
    "# same now normalized by the number of authors in total\n",
    "ybaf['researcher_id']/ybaf.researcher_id.sum()*100\n"
   ]
  },
  {
   "cell_type": "code",
   "execution_count": 75,
   "metadata": {},
   "outputs": [
    {
     "data": {
      "text/html": [
       "<div>\n",
       "<style scoped>\n",
       "    .dataframe tbody tr th:only-of-type {\n",
       "        vertical-align: middle;\n",
       "    }\n",
       "\n",
       "    .dataframe tbody tr th {\n",
       "        vertical-align: top;\n",
       "    }\n",
       "\n",
       "    .dataframe thead th {\n",
       "        text-align: right;\n",
       "    }\n",
       "</style>\n",
       "<table border=\"1\" class=\"dataframe\">\n",
       "  <thead>\n",
       "    <tr style=\"text-align: right;\">\n",
       "      <th></th>\n",
       "      <th>journal</th>\n",
       "      <th>researcher_id</th>\n",
       "    </tr>\n",
       "  </thead>\n",
       "  <tbody>\n",
       "    <tr>\n",
       "      <th>0</th>\n",
       "      <td>JAMA</td>\n",
       "      <td>53010</td>\n",
       "    </tr>\n",
       "    <tr>\n",
       "      <th>1</th>\n",
       "      <td>Nature Medicine</td>\n",
       "      <td>45054</td>\n",
       "    </tr>\n",
       "    <tr>\n",
       "      <th>2</th>\n",
       "      <td>New England Journal of Medicine</td>\n",
       "      <td>43716</td>\n",
       "    </tr>\n",
       "    <tr>\n",
       "      <th>3</th>\n",
       "      <td>The BMJ</td>\n",
       "      <td>49332</td>\n",
       "    </tr>\n",
       "    <tr>\n",
       "      <th>4</th>\n",
       "      <td>The Lancet</td>\n",
       "      <td>88902</td>\n",
       "    </tr>\n",
       "  </tbody>\n",
       "</table>\n",
       "</div>"
      ],
      "text/plain": [
       "                           journal  researcher_id\n",
       "0                             JAMA          53010\n",
       "1                  Nature Medicine          45054\n",
       "2  New England Journal of Medicine          43716\n",
       "3                          The BMJ          49332\n",
       "4                       The Lancet          88902"
      ]
     },
     "execution_count": 75,
     "metadata": {},
     "output_type": "execute_result"
    }
   ],
   "source": [
    "# number of authors per journal\n",
    "jaf = df.groupby('journal').agg({'researcher_id': 'count'}).reset_index()\n",
    "jaf"
   ]
  },
  {
   "cell_type": "code",
   "execution_count": 74,
   "metadata": {},
   "outputs": [
    {
     "data": {
      "text/plain": [
       "0    18.931196\n",
       "1    16.089910\n",
       "2    15.612077\n",
       "3    17.617691\n",
       "4    31.749127\n",
       "Name: researcher_id, dtype: float64"
      ]
     },
     "execution_count": 74,
     "metadata": {},
     "output_type": "execute_result"
    }
   ],
   "source": [
    "jaf.researcher_id/jaf.researcher_id.sum()*100"
   ]
  },
  {
   "cell_type": "code",
   "execution_count": 20,
   "metadata": {},
   "outputs": [],
   "source": [
    "df.to_csv('../data_light/data_clean.csv', index=False)"
   ]
  },
  {
   "cell_type": "code",
   "execution_count": 22,
   "metadata": {},
   "outputs": [
    {
     "data": {
      "text/html": [
       "<div>\n",
       "<style scoped>\n",
       "    .dataframe tbody tr th:only-of-type {\n",
       "        vertical-align: middle;\n",
       "    }\n",
       "\n",
       "    .dataframe tbody tr th {\n",
       "        vertical-align: top;\n",
       "    }\n",
       "\n",
       "    .dataframe thead th {\n",
       "        text-align: right;\n",
       "    }\n",
       "</style>\n",
       "<table border=\"1\" class=\"dataframe\">\n",
       "  <thead>\n",
       "    <tr style=\"text-align: right;\">\n",
       "      <th></th>\n",
       "      <th>pub_id</th>\n",
       "      <th>researcher_id</th>\n",
       "      <th>journal</th>\n",
       "      <th>year</th>\n",
       "      <th>gender</th>\n",
       "      <th>LMIC</th>\n",
       "    </tr>\n",
       "  </thead>\n",
       "  <tbody>\n",
       "    <tr>\n",
       "      <th>0</th>\n",
       "      <td>pub.1000001707</td>\n",
       "      <td>ur.01006172666.33</td>\n",
       "      <td>JAMA</td>\n",
       "      <td>2015</td>\n",
       "      <td>1</td>\n",
       "      <td>0</td>\n",
       "    </tr>\n",
       "    <tr>\n",
       "      <th>1</th>\n",
       "      <td>pub.1000001707</td>\n",
       "      <td>ur.01012736025.78</td>\n",
       "      <td>JAMA</td>\n",
       "      <td>2015</td>\n",
       "      <td>0</td>\n",
       "      <td>0</td>\n",
       "    </tr>\n",
       "    <tr>\n",
       "      <th>2</th>\n",
       "      <td>pub.1000001707</td>\n",
       "      <td>ur.010132635727.81</td>\n",
       "      <td>JAMA</td>\n",
       "      <td>2015</td>\n",
       "      <td>0</td>\n",
       "      <td>0</td>\n",
       "    </tr>\n",
       "    <tr>\n",
       "      <th>3</th>\n",
       "      <td>pub.1000001707</td>\n",
       "      <td>ur.01023477132.25</td>\n",
       "      <td>JAMA</td>\n",
       "      <td>2015</td>\n",
       "      <td>1</td>\n",
       "      <td>0</td>\n",
       "    </tr>\n",
       "    <tr>\n",
       "      <th>4</th>\n",
       "      <td>pub.1000001707</td>\n",
       "      <td>ur.01043100547.54</td>\n",
       "      <td>JAMA</td>\n",
       "      <td>2015</td>\n",
       "      <td>1</td>\n",
       "      <td>0</td>\n",
       "    </tr>\n",
       "  </tbody>\n",
       "</table>\n",
       "</div>"
      ],
      "text/plain": [
       "           pub_id       researcher_id journal  year  gender  LMIC\n",
       "0  pub.1000001707   ur.01006172666.33    JAMA  2015       1     0\n",
       "1  pub.1000001707   ur.01012736025.78    JAMA  2015       0     0\n",
       "2  pub.1000001707  ur.010132635727.81    JAMA  2015       0     0\n",
       "3  pub.1000001707   ur.01023477132.25    JAMA  2015       1     0\n",
       "4  pub.1000001707   ur.01043100547.54    JAMA  2015       1     0"
      ]
     },
     "execution_count": 22,
     "metadata": {},
     "output_type": "execute_result"
    }
   ],
   "source": [
    "df.head()"
   ]
  },
  {
   "cell_type": "code",
   "execution_count": null,
   "metadata": {},
   "outputs": [],
   "source": [
    "# create tableone\n"
   ]
  }
 ],
 "metadata": {
  "kernelspec": {
   "display_name": "Python 3",
   "language": "python",
   "name": "python3"
  },
  "language_info": {
   "codemirror_mode": {
    "name": "ipython",
    "version": 3
   },
   "file_extension": ".py",
   "mimetype": "text/x-python",
   "name": "python",
   "nbconvert_exporter": "python",
   "pygments_lexer": "ipython3",
   "version": "3.10.11"
  },
  "orig_nbformat": 4
 },
 "nbformat": 4,
 "nbformat_minor": 2
}
